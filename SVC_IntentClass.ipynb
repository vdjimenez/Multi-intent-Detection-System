{
  "nbformat": 4,
  "nbformat_minor": 0,
  "metadata": {
    "colab": {
      "name": "SVC_IntentClass.ipynb",
      "provenance": [],
      "collapsed_sections": [],
      "toc_visible": true
    },
    "kernelspec": {
      "name": "python3",
      "display_name": "Python 3"
    }
  },
  "cells": [
    {
      "cell_type": "markdown",
      "metadata": {
        "id": "KfNjkV0bktU0",
        "colab_type": "text"
      },
      "source": [
        "# Linear Support Vector Classifier\n",
        "\n",
        "Intent classification system based on the Linear SVC model for the restaurant information search.\n",
        "\n",
        "\n",
        "\n",
        "\n"
      ]
    },
    {
      "cell_type": "markdown",
      "metadata": {
        "id": "bZoCzg0eKG82",
        "colab_type": "text"
      },
      "source": [
        "## Required libraries"
      ]
    },
    {
      "cell_type": "code",
      "metadata": {
        "id": "8W0JKuZuKHXN",
        "colab_type": "code",
        "colab": {}
      },
      "source": [
        "# Keras\n",
        "from tensorflow.keras.preprocessing.text import Tokenizer\n",
        "\n",
        "# NLTK\n",
        "import nltk\n",
        "from nltk.stem import WordNetLemmatizer\n",
        "from nltk.corpus import wordnet\n",
        "\n",
        "# SKlearn\n",
        "from sklearn.preprocessing import MultiLabelBinarizer\n",
        "from sklearn.svm import LinearSVC\n",
        "from sklearn.multiclass import OneVsRestClassifier\n",
        "from sklearn.model_selection import GridSearchCV\n",
        "from sklearn import metrics\n",
        "\n",
        "# Joblib\n",
        "from joblib import dump, load\n",
        "\n",
        "# NumPy\n",
        "import numpy as np\n",
        "\n",
        "# Standard\n",
        "import pickle"
      ],
      "execution_count": null,
      "outputs": []
    },
    {
      "cell_type": "markdown",
      "metadata": {
        "id": "ysUgYtoA0fgz",
        "colab_type": "text"
      },
      "source": [
        "## Paths"
      ]
    },
    {
      "cell_type": "markdown",
      "metadata": {
        "id": "D8mVnrPibIyU",
        "colab_type": "text"
      },
      "source": [
        "The datasets and dictionaries used in this notebook can be downloaded from this [link](https://drive.google.com/drive/folders/178Sv30P-OvoJc_QOOAYkmUHgcQsPg-rb?usp=sharing). Also, it will be necessary to change the path of the `dataset_path` variable to the path wherein the downloaded information is saved. \n",
        "\n",
        "**Notes:** \n",
        "\n",
        "* The downloaded data can be obtained using the *TextAnalysis_DSTC2.ipynb* notebook.\n",
        "* Only a UC3M user can access to the download link."
      ]
    },
    {
      "cell_type": "code",
      "metadata": {
        "id": "U57p__dC0n8h",
        "colab_type": "code",
        "colab": {
          "base_uri": "https://localhost:8080/",
          "height": 153
        },
        "outputId": "c78d4b09-ff9c-484b-ee4b-af03c02e3c59"
      },
      "source": [
        "dataset_path = \"/content/drive/My Drive/_TFM/Notebooks/Datasets/\"\n",
        "svc_path = \"/content/drive/My Drive/_TFM/Notebooks/Models/svc/\"\n",
        "\n",
        "# Download some tools for the NLTK library\n",
        "nltk.download(\"wordnet\")\n",
        "nltk.download(\"punkt\")\n",
        "nltk.download('averaged_perceptron_tagger')"
      ],
      "execution_count": null,
      "outputs": [
        {
          "output_type": "stream",
          "text": [
            "[nltk_data] Downloading package wordnet to /root/nltk_data...\n",
            "[nltk_data]   Unzipping corpora/wordnet.zip.\n",
            "[nltk_data] Downloading package punkt to /root/nltk_data...\n",
            "[nltk_data]   Unzipping tokenizers/punkt.zip.\n",
            "[nltk_data] Downloading package averaged_perceptron_tagger to\n",
            "[nltk_data]     /root/nltk_data...\n",
            "[nltk_data]   Unzipping taggers/averaged_perceptron_tagger.zip.\n"
          ],
          "name": "stdout"
        },
        {
          "output_type": "execute_result",
          "data": {
            "text/plain": [
              "True"
            ]
          },
          "metadata": {
            "tags": []
          },
          "execution_count": 3
        }
      ]
    },
    {
      "cell_type": "markdown",
      "metadata": {
        "id": "HZdTPM-2F_x_",
        "colab_type": "text"
      },
      "source": [
        "## Data reading"
      ]
    },
    {
      "cell_type": "markdown",
      "metadata": {
        "id": "sXNpTM0d1qlA",
        "colab_type": "text"
      },
      "source": [
        "DSTC 2 dataset provides dialogues of a human talking to a information system labelled with slots and dialogue actions.\n",
        "\n",
        "In our case, the labels will be the users' intents which are the combination of acts and slots.\n",
        "\n",
        "The data only has information about users' utterances."
      ]
    },
    {
      "cell_type": "markdown",
      "metadata": {
        "id": "AFbOzzh910T5",
        "colab_type": "text"
      },
      "source": [
        "**Load dataset**"
      ]
    },
    {
      "cell_type": "code",
      "metadata": {
        "id": "1R3w5Dgn1rQS",
        "colab_type": "code",
        "colab": {}
      },
      "source": [
        "# x_train\n",
        "x_train_obj = open(dataset_path + \"x_train.obj\", \"rb\")\n",
        "x_train = pickle.load(x_train_obj)\n",
        "x_train_obj.close()\n",
        "\n",
        "# y_train\n",
        "y_train_obj = open(dataset_path + \"y_train.obj\", \"rb\")\n",
        "y_train = pickle.load(y_train_obj)\n",
        "y_train_obj.close()\n",
        "\n",
        "# x_valid\n",
        "x_valid_obj = open(dataset_path + \"x_valid.obj\", \"rb\")\n",
        "x_valid = pickle.load(x_valid_obj)\n",
        "x_valid_obj.close()\n",
        "\n",
        "# y_valid\n",
        "y_valid_obj = open(dataset_path + \"y_valid.obj\", \"rb\")\n",
        "y_valid = pickle.load(y_valid_obj)\n",
        "y_valid_obj.close()\n",
        "\n",
        "# x_test\n",
        "x_test_obj = open(dataset_path + \"x_test.obj\", \"rb\")\n",
        "x_test = pickle.load(x_test_obj)\n",
        "x_test_obj.close()\n",
        "\n",
        "# y_test\n",
        "y_test_obj = open(dataset_path + \"y_test.obj\", \"rb\")\n",
        "y_test = pickle.load(y_test_obj)\n",
        "y_test_obj.close()"
      ],
      "execution_count": null,
      "outputs": []
    },
    {
      "cell_type": "markdown",
      "metadata": {
        "id": "f1HON1gz1snx",
        "colab_type": "text"
      },
      "source": [
        "**Check data**"
      ]
    },
    {
      "cell_type": "code",
      "metadata": {
        "id": "PlCX0-In1s64",
        "colab_type": "code",
        "colab": {
          "base_uri": "https://localhost:8080/",
          "height": 258
        },
        "outputId": "952916e4-ec1f-4251-9a81-f76a5327a119"
      },
      "source": [
        "print(\"Data = (X: users' utterances, y: intents)\")\n",
        "\n",
        "print(\"\\n  > Train data:\")\n",
        "print(\"Samples: 8148 = %s\" % len(x_train))\n",
        "print(list(zip(x_train, y_train))[:3])\n",
        "\n",
        "print(\"\\n  > Validation data:\")\n",
        "print(\"Samples: 5656 = %s\" % len(x_valid))\n",
        "print(list(zip(x_valid, y_valid))[:3])\n",
        "\n",
        "print(\"\\n  > Test data:\")\n",
        "print(\"Samples: 5769 = %s\" % len(x_test))\n",
        "print(list(zip(x_test, y_test))[:3])"
      ],
      "execution_count": null,
      "outputs": [
        {
          "output_type": "stream",
          "text": [
            "Data = (X: users' utterances, y: intents)\n",
            "\n",
            "  > Train data:\n",
            "Samples: 8148 = 8148\n",
            "[('cheap restaurant', ['inform_pricerange']), ('any', ['inform_this']), ('south', ['inform_area'])]\n",
            "\n",
            "  > Validation data:\n",
            "Samples: 5656 = 5656\n",
            "[('sil', ['unknown']), ('north part of town serving gastropub food', ['inform_food', 'inform_area']), ('north part of town serving gastropub food', ['inform_food', 'inform_area'])]\n",
            "\n",
            "  > Test data:\n",
            "Samples: 5769 = 5769\n",
            "[('uh yes im looking for a cheap restaurant in the west part of town', ['affirm', 'inform_pricerange', 'inform_area']), ('west', ['inform_area']), ('uh yes a cheap restaurant', ['affirm', 'inform_pricerange'])]\n"
          ],
          "name": "stdout"
        }
      ]
    },
    {
      "cell_type": "markdown",
      "metadata": {
        "id": "5dXnolIPhii_",
        "colab_type": "text"
      },
      "source": [
        "## Data preprocessing\n"
      ]
    },
    {
      "cell_type": "markdown",
      "metadata": {
        "id": "ZCP9IzbT9p9B",
        "colab_type": "text"
      },
      "source": [
        "Each text sample will follow the next pipeline:\n",
        "\n",
        "*raw text* > **decontraction** > **normalization** > **lemmatization** > **lowercasing** > **tokenization** > *tokens*\n",
        "\n",
        "And then, we will build the vocabulary including the UNK token."
      ]
    },
    {
      "cell_type": "markdown",
      "metadata": {
        "id": "qqEgQTDn27B0",
        "colab_type": "text"
      },
      "source": [
        "**Settings**"
      ]
    },
    {
      "cell_type": "code",
      "metadata": {
        "id": "PWISdUIebi0A",
        "colab_type": "code",
        "colab": {}
      },
      "source": [
        "# Merge all samples\n",
        "x_data = np.concatenate([x_train, x_valid, x_test])"
      ],
      "execution_count": null,
      "outputs": []
    },
    {
      "cell_type": "code",
      "metadata": {
        "id": "gsdCz_Ba27kM",
        "colab_type": "code",
        "colab": {}
      },
      "source": [
        "# Decontract funtion\n",
        "contracted_words_obj = open(dataset_path + \"contracted_words.obj\", \"rb\")\n",
        "contracted_words = pickle.load(contracted_words_obj)\n",
        "contracted_words_obj.close()\n",
        "\n",
        "def decontract(text):\n",
        "  for word in text.split():\n",
        "    if word.lower() in contracted_words:\n",
        "      text = text.replace(word, contracted_words[word.lower()])\n",
        "  return text\n",
        "\n",
        "# Normalize function\n",
        "normalized_words_obj = open(dataset_path + \"normalized_words.obj\", \"rb\")\n",
        "normalized_words = pickle.load(normalized_words_obj)\n",
        "normalized_words_obj.close()\n",
        "\n",
        "def normalize(text):\n",
        "  for word in text.split():\n",
        "    if word.lower() in normalized_words:\n",
        "      text = text.replace(word, normalized_words[word.lower()])\n",
        "  return text"
      ],
      "execution_count": null,
      "outputs": []
    },
    {
      "cell_type": "code",
      "metadata": {
        "id": "XNLrhya2booG",
        "colab_type": "code",
        "colab": {}
      },
      "source": [
        "# Lemmatize function\n",
        "\n",
        "# Set the lemmatizer\n",
        "lemmatizer = WordNetLemmatizer()\n",
        "\n",
        "# Get the POS tag for a given word\n",
        "def get_pos_tag(word):\n",
        "  tag = nltk.pos_tag([word])[0][1][0].upper()\n",
        "  tag_dict = {\"J\": wordnet.ADJ,\n",
        "              \"N\": wordnet.NOUN,\n",
        "              \"V\": wordnet.VERB,\n",
        "              \"R\": wordnet.ADV}\n",
        "  return tag_dict.get(tag, wordnet.NOUN)\n",
        "\n",
        "# Lemmatize a text with POS tag\n",
        "def lemmatize(text, lemmatizer):\n",
        "  word_list = nltk.word_tokenize(text)\n",
        "  text_lemmatized = ' '.join([lemmatizer.lemmatize(word, get_pos_tag(word)) for word in word_list])\n",
        "  return text_lemmatized"
      ],
      "execution_count": null,
      "outputs": []
    },
    {
      "cell_type": "markdown",
      "metadata": {
        "id": "GZpUipOn-A3O",
        "colab_type": "text"
      },
      "source": [
        "**Preprocessing**"
      ]
    },
    {
      "cell_type": "code",
      "metadata": {
        "id": "pbBmRY9v-BBZ",
        "colab_type": "code",
        "colab": {}
      },
      "source": [
        "# Decontract, normalize, lemmatize, lowercase and tokenize the text samples\n",
        "tokenizer = Tokenizer(lower=True, oov_token=\"unk\")\n",
        "tokenizer.fit_on_texts(\n",
        "    [lemmatize(normalize(decontract(sample)), lemmatizer) for sample in x_data])\n",
        "\n",
        "# Vocabulary\n",
        "x_vocab = tokenizer.word_index\n",
        "x_vocab_size = len(x_vocab) + 1"
      ],
      "execution_count": null,
      "outputs": []
    },
    {
      "cell_type": "code",
      "metadata": {
        "id": "4sproL8TUqZG",
        "colab_type": "code",
        "colab": {
          "base_uri": "https://localhost:8080/",
          "height": 34
        },
        "outputId": "d67711fd-18c2-4dcd-e381-6ab3f1c7091e"
      },
      "source": [
        "x_vocab_size"
      ],
      "execution_count": null,
      "outputs": [
        {
          "output_type": "execute_result",
          "data": {
            "text/plain": [
              "502"
            ]
          },
          "metadata": {
            "tags": []
          },
          "execution_count": 10
        }
      ]
    },
    {
      "cell_type": "markdown",
      "metadata": {
        "id": "XpSIuoUS27vQ",
        "colab_type": "text"
      },
      "source": [
        "## Featurization"
      ]
    },
    {
      "cell_type": "markdown",
      "metadata": {
        "id": "hKwvb5Iq276Q",
        "colab_type": "text"
      },
      "source": [
        "### Tokens (TF-IDF)\n"
      ]
    },
    {
      "cell_type": "code",
      "metadata": {
        "id": "HIdgDqj828EV",
        "colab_type": "code",
        "colab": {}
      },
      "source": [
        "# x_train\n",
        "x_train_eval = np.concatenate([x_train, x_valid])\n",
        "x_train_eval_tfidf = tokenizer.texts_to_matrix(\n",
        "    [lemmatize(normalize(decontract(sample)), lemmatizer) for sample in x_train_eval], mode=\"tfidf\")\n",
        "\n",
        "# x_test\n",
        "x_test_tfidf = tokenizer.texts_to_matrix(\n",
        "    [lemmatize(normalize(decontract(sample)), lemmatizer) for sample in x_test], mode=\"tfidf\")"
      ],
      "execution_count": null,
      "outputs": []
    },
    {
      "cell_type": "code",
      "metadata": {
        "id": "ODT-svKXV93F",
        "colab_type": "code",
        "colab": {
          "base_uri": "https://localhost:8080/",
          "height": 34
        },
        "outputId": "b605931a-7d6f-49a8-8879-129b46451acd"
      },
      "source": [
        "np.shape(x_train_eval_tfidf)"
      ],
      "execution_count": null,
      "outputs": [
        {
          "output_type": "execute_result",
          "data": {
            "text/plain": [
              "(13804, 502)"
            ]
          },
          "metadata": {
            "tags": []
          },
          "execution_count": 12
        }
      ]
    },
    {
      "cell_type": "code",
      "metadata": {
        "id": "BwaRsKT1WMIh",
        "colab_type": "code",
        "colab": {
          "base_uri": "https://localhost:8080/",
          "height": 34
        },
        "outputId": "3a88740d-fe0f-4629-d747-4663ab1b416a"
      },
      "source": [
        "np.shape(x_test_tfidf)"
      ],
      "execution_count": null,
      "outputs": [
        {
          "output_type": "execute_result",
          "data": {
            "text/plain": [
              "(5769, 502)"
            ]
          },
          "metadata": {
            "tags": []
          },
          "execution_count": 13
        }
      ]
    },
    {
      "cell_type": "markdown",
      "metadata": {
        "id": "CUMc2QxO3aQu",
        "colab_type": "text"
      },
      "source": [
        "### Labels (Multi-Label Binarizer)"
      ]
    },
    {
      "cell_type": "markdown",
      "metadata": {
        "id": "g2UjjpzE3aa0",
        "colab_type": "text"
      },
      "source": [
        "On the other hand, the labels will be encoded as *n* binary elements in an array, where *n* is the total number of labels.\n",
        "\n",
        "The binary vector (associated to each sample) indicates the presence of labels."
      ]
    },
    {
      "cell_type": "code",
      "metadata": {
        "id": "u-P0m72EXdIs",
        "colab_type": "code",
        "colab": {}
      },
      "source": [
        "# Load the labels\n",
        "labels_obj = open(dataset_path + \"labels.obj\", \"rb\")\n",
        "labels = pickle.load(labels_obj)\n",
        "labels_obj.close()"
      ],
      "execution_count": null,
      "outputs": []
    },
    {
      "cell_type": "code",
      "metadata": {
        "id": "OsOwKVZQ3e2X",
        "colab_type": "code",
        "colab": {}
      },
      "source": [
        "# Build the multi-label binarizer\n",
        "mlb = MultiLabelBinarizer(classes=labels)\n",
        "\n",
        "# y_train\n",
        "y_train_eval = np.concatenate([y_train, y_valid])\n",
        "y_train_eval_mlb = mlb.fit_transform(y_train_eval)\n",
        "\n",
        "# y_test\n",
        "y_test_mlb = mlb.fit_transform(y_test)"
      ],
      "execution_count": null,
      "outputs": []
    },
    {
      "cell_type": "markdown",
      "metadata": {
        "id": "MqFut7cQiGd2",
        "colab_type": "text"
      },
      "source": [
        "## Linear SVC model"
      ]
    },
    {
      "cell_type": "markdown",
      "metadata": {
        "id": "7b0jn_D4RSqS",
        "colab_type": "text"
      },
      "source": [
        "In a multi-label scenario the Linear SVC model must be wrapped in the OneVsRestClassifier to apply the One-vs-the-Rest (OvR) multi-label strategy."
      ]
    },
    {
      "cell_type": "markdown",
      "metadata": {
        "id": "DGBezdhjkyhQ",
        "colab_type": "text"
      },
      "source": [
        "### Hyper-parameter tuning"
      ]
    },
    {
      "cell_type": "code",
      "metadata": {
        "id": "PEfBB8pZZYGM",
        "colab_type": "code",
        "colab": {
          "base_uri": "https://localhost:8080/",
          "height": 54
        },
        "outputId": "610e3d1f-399b-4abb-d82c-f287d879b59a"
      },
      "source": [
        "# Define the model\n",
        "svc_model = OneVsRestClassifier(LinearSVC(max_iter=5000), n_jobs=1)\n",
        "\n",
        "svc_model.get_params().keys()"
      ],
      "execution_count": null,
      "outputs": [
        {
          "output_type": "execute_result",
          "data": {
            "text/plain": [
              "dict_keys(['estimator__C', 'estimator__class_weight', 'estimator__dual', 'estimator__fit_intercept', 'estimator__intercept_scaling', 'estimator__loss', 'estimator__max_iter', 'estimator__multi_class', 'estimator__penalty', 'estimator__random_state', 'estimator__tol', 'estimator__verbose', 'estimator', 'n_jobs'])"
            ]
          },
          "metadata": {
            "tags": []
          },
          "execution_count": 16
        }
      ]
    },
    {
      "cell_type": "code",
      "metadata": {
        "id": "auFqtlmgRsKX",
        "colab_type": "code",
        "colab": {}
      },
      "source": [
        "# Define the index of the train and validation data\n",
        "index_data = [i for i, _ in enumerate(x_train_eval)]\n",
        "index_train = index_data[:len(x_train)]\n",
        "index_valid = index_data[len(x_train):]"
      ],
      "execution_count": null,
      "outputs": []
    },
    {
      "cell_type": "code",
      "metadata": {
        "id": "7GLjhfLuRsCK",
        "colab_type": "code",
        "colab": {}
      },
      "source": [
        "# Define the hyper-parameters to tuning\n",
        "C = [0.1, 1, 10, 100]\n",
        "param_grid = dict(estimator__C=C)"
      ],
      "execution_count": null,
      "outputs": []
    },
    {
      "cell_type": "code",
      "metadata": {
        "id": "D683W_s_RvtR",
        "colab_type": "code",
        "colab": {}
      },
      "source": [
        "# Tuning through Grid Search approach\n",
        "svc_tune_model = GridSearchCV(svc_model,\n",
        "                              param_grid=param_grid,\n",
        "                              scoring = \"accuracy\",\n",
        "                              cv=[(index_train, index_valid)],\n",
        "                              verbose=1,\n",
        "                              n_jobs=-1)"
      ],
      "execution_count": null,
      "outputs": []
    },
    {
      "cell_type": "code",
      "metadata": {
        "id": "6pabihRlRr4k",
        "colab_type": "code",
        "colab": {
          "base_uri": "https://localhost:8080/",
          "height": 122
        },
        "outputId": "abe1fb03-8013-49c0-ee38-54646066f451"
      },
      "source": [
        "# Select the model with the best hyper-parameters\n",
        "svc_tune_model = svc_tune_model.fit(x_train_eval_tfidf, y_train_eval_mlb)"
      ],
      "execution_count": null,
      "outputs": [
        {
          "output_type": "stream",
          "text": [
            "Fitting 1 folds for each of 4 candidates, totalling 4 fits\n"
          ],
          "name": "stdout"
        },
        {
          "output_type": "stream",
          "text": [
            "[Parallel(n_jobs=-1)]: Using backend LokyBackend with 2 concurrent workers.\n",
            "[Parallel(n_jobs=-1)]: Done   4 out of   4 | elapsed:   11.9s finished\n",
            "/usr/local/lib/python3.6/dist-packages/sklearn/multiclass.py:75: UserWarning: Label not 27 is present in all training examples.\n",
            "  str(classes[c]))\n"
          ],
          "name": "stderr"
        }
      ]
    },
    {
      "cell_type": "code",
      "metadata": {
        "id": "_dqAoCHIeGUO",
        "colab_type": "code",
        "colab": {
          "base_uri": "https://localhost:8080/",
          "height": 68
        },
        "outputId": "c0120150-6b2d-4252-8b41-1d43785ed371"
      },
      "source": [
        "print(\"--- Hyper-paremeters selected ---\\n\")\n",
        "print(\"Best accuracy: %f using %s\" % (svc_tune_model.best_score_, svc_tune_model.best_params_))"
      ],
      "execution_count": null,
      "outputs": [
        {
          "output_type": "stream",
          "text": [
            "--- Hyper-paremeters selected ---\n",
            "\n",
            "Best accuracy: 0.960396 using {'estimator__C': 0.1}\n"
          ],
          "name": "stdout"
        }
      ]
    },
    {
      "cell_type": "markdown",
      "metadata": {
        "id": "RWWHtZ8nZP2G",
        "colab_type": "text"
      },
      "source": [
        "**Save the model**"
      ]
    },
    {
      "cell_type": "code",
      "metadata": {
        "id": "6yImvMAjZR2w",
        "colab_type": "code",
        "colab": {
          "base_uri": "https://localhost:8080/",
          "height": 34
        },
        "outputId": "f268a866-6198-4ae0-d571-b27fd5761044"
      },
      "source": [
        "dump(svc_tune_model, svc_path + \"svc_model.joblib\")"
      ],
      "execution_count": null,
      "outputs": [
        {
          "output_type": "execute_result",
          "data": {
            "text/plain": [
              "['/content/drive/My Drive/_TFM/Notebooks/Models/svc/svc_model.joblib']"
            ]
          },
          "metadata": {
            "tags": []
          },
          "execution_count": 22
        }
      ]
    },
    {
      "cell_type": "markdown",
      "metadata": {
        "id": "x9ckLj7iZSIl",
        "colab_type": "text"
      },
      "source": [
        "**Load the model**"
      ]
    },
    {
      "cell_type": "code",
      "metadata": {
        "id": "_lsl0KKKZVl7",
        "colab_type": "code",
        "colab": {}
      },
      "source": [
        "svc_tune_model = load(svc_path + \"svc_model.joblib\") "
      ],
      "execution_count": null,
      "outputs": []
    },
    {
      "cell_type": "markdown",
      "metadata": {
        "id": "MNghyPMJSbv6",
        "colab_type": "text"
      },
      "source": [
        "### Model Evaluation"
      ]
    },
    {
      "cell_type": "code",
      "metadata": {
        "id": "WgTCDOSkScsS",
        "colab_type": "code",
        "colab": {}
      },
      "source": [
        "# Prediction\n",
        "y_test_mlb_pred = svc_tune_model.predict(x_test_tfidf)"
      ],
      "execution_count": null,
      "outputs": []
    },
    {
      "cell_type": "markdown",
      "metadata": {
        "id": "NarE_t-iZtm0",
        "colab_type": "text"
      },
      "source": [
        "**Accuracy**"
      ]
    },
    {
      "cell_type": "code",
      "metadata": {
        "id": "aCzQOUHIZvdj",
        "colab_type": "code",
        "colab": {
          "base_uri": "https://localhost:8080/",
          "height": 34
        },
        "outputId": "2585bb26-4e25-41fe-c4cf-bba02f11b2f9"
      },
      "source": [
        "metrics.accuracy_score(y_test_mlb, y_test_mlb_pred)"
      ],
      "execution_count": null,
      "outputs": [
        {
          "output_type": "execute_result",
          "data": {
            "text/plain": [
              "0.9594383775351014"
            ]
          },
          "metadata": {
            "tags": []
          },
          "execution_count": 24
        }
      ]
    },
    {
      "cell_type": "markdown",
      "metadata": {
        "id": "DU6f_oLEZ5WV",
        "colab_type": "text"
      },
      "source": [
        "**Precision, Recall & F1-Score**"
      ]
    },
    {
      "cell_type": "code",
      "metadata": {
        "id": "W5WqgitsV1Pi",
        "colab_type": "code",
        "colab": {
          "base_uri": "https://localhost:8080/",
          "height": 646
        },
        "outputId": "4633255d-d52d-463c-a24f-77cd670d7420"
      },
      "source": [
        "print(metrics.classification_report(y_test_mlb, y_test_mlb_pred, target_names=labels, zero_division=0))"
      ],
      "execution_count": null,
      "outputs": [
        {
          "output_type": "stream",
          "text": [
            "                    precision    recall  f1-score   support\n",
            "\n",
            "               ack       0.00      0.00      0.00         7\n",
            "            affirm       0.98      0.99      0.98       326\n",
            "               bye       1.00      1.00      1.00       619\n",
            "      confirm_area       0.40      1.00      0.57         2\n",
            "      confirm_food       0.87      0.80      0.83        25\n",
            "confirm_pricerange       0.78      1.00      0.88         7\n",
            "         deny_food       0.00      0.00      0.00         2\n",
            "         deny_name       0.00      0.00      0.00         0\n",
            "             hello       0.93      1.00      0.97        28\n",
            "       inform_area       1.00      0.99      1.00       653\n",
            "       inform_food       0.98      0.98      0.98      1439\n",
            "       inform_name       0.75      0.20      0.32        15\n",
            " inform_pricerange       0.99      0.99      0.99       526\n",
            "       inform_this       0.98      0.99      0.99       537\n",
            "            negate       0.97      0.93      0.95        69\n",
            "            repeat       1.00      0.63      0.77        19\n",
            "           reqalts       0.91      0.98      0.95       458\n",
            "           reqmore       0.00      0.00      0.00         0\n",
            "      request_addr       0.98      1.00      0.99       512\n",
            "      request_area       1.00      1.00      1.00        51\n",
            "      request_food       0.87      0.97      0.92       119\n",
            "     request_phone       1.00      1.00      1.00       511\n",
            "  request_postcode       0.97      1.00      0.99       112\n",
            "request_pricerange       0.99      1.00      0.99        79\n",
            "           restart       0.00      0.00      0.00         0\n",
            "          thankyou       0.99      1.00      0.99       606\n",
            " request_signature       0.00      0.00      0.00         0\n",
            "      request_name       0.00      0.00      0.00         4\n",
            "           unknown       0.93      0.95      0.94       503\n",
            "\n",
            "         micro avg       0.97      0.98      0.98      7229\n",
            "         macro avg       0.70      0.70      0.69      7229\n",
            "      weighted avg       0.97      0.98      0.98      7229\n",
            "       samples avg       0.97      0.98      0.98      7229\n",
            "\n"
          ],
          "name": "stdout"
        }
      ]
    },
    {
      "cell_type": "markdown",
      "metadata": {
        "id": "EIH3vAkNSwFl",
        "colab_type": "text"
      },
      "source": [
        "### Predictions"
      ]
    },
    {
      "cell_type": "markdown",
      "metadata": {
        "id": "-uh9FYxuSydm",
        "colab_type": "text"
      },
      "source": [
        "We inspect some predictions."
      ]
    },
    {
      "cell_type": "code",
      "metadata": {
        "id": "ryLMsD6YSdx6",
        "colab_type": "code",
        "colab": {}
      },
      "source": [
        "y_test_pred = mlb.inverse_transform(y_test_mlb_pred)"
      ],
      "execution_count": null,
      "outputs": []
    },
    {
      "cell_type": "code",
      "metadata": {
        "id": "gOIJwlkcSd7q",
        "colab_type": "code",
        "colab": {
          "base_uri": "https://localhost:8080/",
          "height": 136
        },
        "outputId": "83d8ca45-745a-4880-f37b-d6033cb67be1"
      },
      "source": [
        "index_sample = 0\n",
        "\n",
        "print(\"User's utterance: %s\" % x_test[index_sample])\n",
        "\n",
        "print(\"\\nTrue label: %s\" % y_test[index_sample])\n",
        "print(\"Predicted label: %s\" % list(y_test_pred[index_sample]))\n",
        "\n",
        "print(\"\\nTrue binary label: %s\" % y_test_mlb[index_sample])\n",
        "print(\"Predicted binary label: %s\" % y_test_mlb_pred[index_sample])"
      ],
      "execution_count": null,
      "outputs": [
        {
          "output_type": "stream",
          "text": [
            "User's utterance: uh yes im looking for a cheap restaurant in the west part of town\n",
            "\n",
            "True label: ['affirm', 'inform_pricerange', 'inform_area']\n",
            "Predicted label: ['affirm', 'inform_area', 'inform_pricerange']\n",
            "\n",
            "True binary label: [0 1 0 0 0 0 0 0 0 1 0 0 1 0 0 0 0 0 0 0 0 0 0 0 0 0 0 0 0]\n",
            "Predicted binary label: [0 1 0 0 0 0 0 0 0 1 0 0 1 0 0 0 0 0 0 0 0 0 0 0 0 0 0 0 0]\n"
          ],
          "name": "stdout"
        }
      ]
    }
  ]
}