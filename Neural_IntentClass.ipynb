{
  "nbformat": 4,
  "nbformat_minor": 0,
  "metadata": {
    "colab": {
      "name": "Neural_IntentClass.ipynb",
      "provenance": [],
      "collapsed_sections": [],
      "toc_visible": true
    },
    "kernelspec": {
      "name": "python3",
      "display_name": "Python 3"
    },
    "accelerator": "GPU"
  },
  "cells": [
    {
      "cell_type": "markdown",
      "metadata": {
        "id": "KfNjkV0bktU0",
        "colab_type": "text"
      },
      "source": [
        "# Classifier based on a combination of neural models\n",
        "\n",
        "Intent classification system based on a combination of neural models for the restaurant information search.\n"
      ]
    },
    {
      "cell_type": "markdown",
      "metadata": {
        "id": "bZoCzg0eKG82",
        "colab_type": "text"
      },
      "source": [
        "## Required libraries"
      ]
    },
    {
      "cell_type": "code",
      "metadata": {
        "id": "8W0JKuZuKHXN",
        "colab_type": "code",
        "colab": {}
      },
      "source": [
        "# Keras\n",
        "from tensorflow.keras.preprocessing.text import Tokenizer\n",
        "from tensorflow.keras.preprocessing.sequence import pad_sequences\n",
        "from tensorflow.keras import Input\n",
        "from tensorflow.keras.models import Model, load_model\n",
        "from tensorflow.keras.layers import Embedding, LSTM, Bidirectional, Dense\n",
        "from tensorflow.keras.layers import Conv1D, GlobalAveragePooling1D, GlobalMaxPooling1D, concatenate\n",
        "from tensorflow.keras.optimizers import Adam\n",
        "from tensorflow.keras.callbacks import EarlyStopping, ModelCheckpoint\n",
        "from tensorflow.keras.utils import plot_model\n",
        "\n",
        "# NLTK\n",
        "import nltk\n",
        "from nltk.stem import WordNetLemmatizer\n",
        "from nltk.corpus import wordnet\n",
        "\n",
        "# SKlearn\n",
        "from sklearn.preprocessing import MultiLabelBinarizer\n",
        "from sklearn import metrics\n",
        "\n",
        "# NumPy\n",
        "import numpy as np\n",
        "\n",
        "# Standard\n",
        "import pickle"
      ],
      "execution_count": null,
      "outputs": []
    },
    {
      "cell_type": "markdown",
      "metadata": {
        "id": "UW-zLlsVDIkH",
        "colab_type": "text"
      },
      "source": [
        "## Paths"
      ]
    },
    {
      "cell_type": "markdown",
      "metadata": {
        "id": "0JLAqR_njB9Q",
        "colab_type": "text"
      },
      "source": [
        "The datasets and dictionaries used in this notebook can be downloaded from this [link](https://drive.google.com/drive/folders/178Sv30P-OvoJc_QOOAYkmUHgcQsPg-rb?usp=sharing). Also, it will be necessary to change the path of the `dataset_path` variable to the path wherein the downloaded information is saved. \n",
        "\n",
        "**Notes:** \n",
        "\n",
        "* The downloaded data can be obtained using the *TextAnalysis_DSTC2.ipynb* notebook.\n",
        "* Only a UC3M user can access to the download link."
      ]
    },
    {
      "cell_type": "code",
      "metadata": {
        "id": "M-pB9ct51Scy",
        "colab_type": "code",
        "colab": {
          "base_uri": "https://localhost:8080/",
          "height": 153
        },
        "outputId": "42150d9c-c690-4d85-dfa4-f64ef47ee0e4"
      },
      "source": [
        "dataset_path = \"/content/drive/My Drive/_TFM/Notebooks/Datasets/\"\n",
        "glove_path = \"/content/drive/My Drive/_TFM/Notebooks/Models/glove/glove.6B.100d.txt\"\n",
        "neural_path = \"/content/drive/My Drive/_TFM/Notebooks/Models/neural/\"\n",
        "\n",
        "# Download some tools for the NLTK library\n",
        "nltk.download(\"wordnet\")\n",
        "nltk.download(\"punkt\")\n",
        "nltk.download('averaged_perceptron_tagger')"
      ],
      "execution_count": null,
      "outputs": [
        {
          "output_type": "stream",
          "text": [
            "[nltk_data] Downloading package wordnet to /root/nltk_data...\n",
            "[nltk_data]   Unzipping corpora/wordnet.zip.\n",
            "[nltk_data] Downloading package punkt to /root/nltk_data...\n",
            "[nltk_data]   Unzipping tokenizers/punkt.zip.\n",
            "[nltk_data] Downloading package averaged_perceptron_tagger to\n",
            "[nltk_data]     /root/nltk_data...\n",
            "[nltk_data]   Unzipping taggers/averaged_perceptron_tagger.zip.\n"
          ],
          "name": "stdout"
        },
        {
          "output_type": "execute_result",
          "data": {
            "text/plain": [
              "True"
            ]
          },
          "metadata": {
            "tags": []
          },
          "execution_count": 3
        }
      ]
    },
    {
      "cell_type": "markdown",
      "metadata": {
        "id": "HZdTPM-2F_x_",
        "colab_type": "text"
      },
      "source": [
        "## Data reading\n"
      ]
    },
    {
      "cell_type": "markdown",
      "metadata": {
        "id": "k33K7fyxUvJP",
        "colab_type": "text"
      },
      "source": [
        "DSTC 2 dataset provides dialogues of a human talking to a information system labelled with slots and dialogue actions.\n",
        "\n",
        "In our case, the labels will be the users' intents which are the combination of acts and slots.\n",
        "\n",
        "The data only has information about users' utterances."
      ]
    },
    {
      "cell_type": "markdown",
      "metadata": {
        "id": "R9AYB8pQNtU6",
        "colab_type": "text"
      },
      "source": [
        "**Load dataset**"
      ]
    },
    {
      "cell_type": "code",
      "metadata": {
        "id": "hfiM3xYHNwyf",
        "colab_type": "code",
        "colab": {}
      },
      "source": [
        "# x_train\n",
        "x_train_obj = open(dataset_path + \"x_train.obj\", \"rb\")\n",
        "x_train = pickle.load(x_train_obj)\n",
        "x_train_obj.close()\n",
        "\n",
        "# y_train\n",
        "y_train_obj = open(dataset_path + \"y_train.obj\", \"rb\")\n",
        "y_train = pickle.load(y_train_obj)\n",
        "y_train_obj.close()\n",
        "\n",
        "# x_valid\n",
        "x_valid_obj = open(dataset_path + \"x_valid.obj\", \"rb\")\n",
        "x_valid = pickle.load(x_valid_obj)\n",
        "x_valid_obj.close()\n",
        "\n",
        "# y_valid\n",
        "y_valid_obj = open(dataset_path + \"y_valid.obj\", \"rb\")\n",
        "y_valid = pickle.load(y_valid_obj)\n",
        "y_valid_obj.close()\n",
        "\n",
        "# x_test\n",
        "x_test_obj = open(dataset_path + \"x_test.obj\", \"rb\")\n",
        "x_test = pickle.load(x_test_obj)\n",
        "x_test_obj.close()\n",
        "\n",
        "# y_test\n",
        "y_test_obj = open(dataset_path + \"y_test.obj\", \"rb\")\n",
        "y_test = pickle.load(y_test_obj)\n",
        "y_test_obj.close()"
      ],
      "execution_count": null,
      "outputs": []
    },
    {
      "cell_type": "markdown",
      "metadata": {
        "id": "okPQidj0VAMj",
        "colab_type": "text"
      },
      "source": [
        "**Check data**"
      ]
    },
    {
      "cell_type": "code",
      "metadata": {
        "id": "veqeuff3ObJj",
        "colab_type": "code",
        "colab": {
          "base_uri": "https://localhost:8080/",
          "height": 258
        },
        "outputId": "2d7bc879-4acd-4324-97d6-1abab10178e2"
      },
      "source": [
        "print(\"Data = (X: users' utterances, y: intents)\")\n",
        "\n",
        "print(\"\\n  > Train data:\")\n",
        "print(\"Samples: 8148 = %s\" % len(x_train))\n",
        "print(list(zip(x_train, y_train))[:3])\n",
        "\n",
        "print(\"\\n  > Validation data:\")\n",
        "print(\"Samples: 5656 = %s\" % len(x_valid))\n",
        "print(list(zip(x_valid, y_valid))[:3])\n",
        "\n",
        "print(\"\\n  > Test data:\")\n",
        "print(\"Samples: 5769 = %s\" % len(x_test))\n",
        "print(list(zip(x_test, y_test))[:3])"
      ],
      "execution_count": null,
      "outputs": [
        {
          "output_type": "stream",
          "text": [
            "Data = (X: users' utterances, y: intents)\n",
            "\n",
            "  > Train data:\n",
            "Samples: 8148 = 8148\n",
            "[('cheap restaurant', ['inform_pricerange']), ('any', ['inform_this']), ('south', ['inform_area'])]\n",
            "\n",
            "  > Validation data:\n",
            "Samples: 5656 = 5656\n",
            "[('sil', ['unknown']), ('north part of town serving gastropub food', ['inform_food', 'inform_area']), ('north part of town serving gastropub food', ['inform_food', 'inform_area'])]\n",
            "\n",
            "  > Test data:\n",
            "Samples: 5769 = 5769\n",
            "[('uh yes im looking for a cheap restaurant in the west part of town', ['affirm', 'inform_pricerange', 'inform_area']), ('west', ['inform_area']), ('uh yes a cheap restaurant', ['affirm', 'inform_pricerange'])]\n"
          ],
          "name": "stdout"
        }
      ]
    },
    {
      "cell_type": "markdown",
      "metadata": {
        "id": "5dXnolIPhii_",
        "colab_type": "text"
      },
      "source": [
        "## Data preprocessing\n"
      ]
    },
    {
      "cell_type": "markdown",
      "metadata": {
        "id": "3cyr1ditMFZS",
        "colab_type": "text"
      },
      "source": [
        "Each text sample will follow the next pipeline:\n",
        "\n",
        "*raw text* > **decontraction** > **normalization** > **lemmatization** > **lowercasing** > **tokenization** > **padding** > *tokens*\n",
        "\n",
        "And then, we will build the vocabulary including the UNK token. The PAD token will be zero."
      ]
    },
    {
      "cell_type": "markdown",
      "metadata": {
        "id": "nCRp7huePXYy",
        "colab_type": "text"
      },
      "source": [
        "**Settings**"
      ]
    },
    {
      "cell_type": "code",
      "metadata": {
        "id": "X8WqBRasj-ll",
        "colab_type": "code",
        "colab": {}
      },
      "source": [
        "# We limit the sequence length to 18 words\n",
        "maxlen = 18\n",
        "\n",
        "# Considerer only the most frequent 550 words\n",
        "max_words = 550\n",
        "\n",
        "# Merge all samples\n",
        "x_data = np.concatenate([x_train, x_valid, x_test])"
      ],
      "execution_count": null,
      "outputs": []
    },
    {
      "cell_type": "code",
      "metadata": {
        "id": "7PClhZwnPZVo",
        "colab_type": "code",
        "colab": {}
      },
      "source": [
        "# Decontract funtion\n",
        "contracted_words_obj = open(dataset_path + \"contracted_words.obj\", \"rb\")\n",
        "contracted_words = pickle.load(contracted_words_obj)\n",
        "contracted_words_obj.close()\n",
        "\n",
        "def decontract(text):\n",
        "  for word in text.split():\n",
        "    if word.lower() in contracted_words:\n",
        "      text = text.replace(word, contracted_words[word.lower()])\n",
        "  return text\n",
        "\n",
        "# Normalize function\n",
        "normalized_words_obj = open(dataset_path + \"normalized_words.obj\", \"rb\")\n",
        "normalized_words = pickle.load(normalized_words_obj)\n",
        "normalized_words_obj.close()\n",
        "\n",
        "def normalize(text):\n",
        "  for word in text.split():\n",
        "    if word.lower() in normalized_words:\n",
        "      text = text.replace(word, normalized_words[word.lower()])\n",
        "  return text"
      ],
      "execution_count": null,
      "outputs": []
    },
    {
      "cell_type": "code",
      "metadata": {
        "id": "XVfj6DSTkDMV",
        "colab_type": "code",
        "colab": {}
      },
      "source": [
        "# Lemmatize function\n",
        "\n",
        "# Set the lemmatizer\n",
        "lemmatizer = WordNetLemmatizer()\n",
        "\n",
        "# Get the POS tag for a given word\n",
        "def get_pos_tag(word):\n",
        "  tag = nltk.pos_tag([word])[0][1][0].upper()\n",
        "  tag_dict = {\"J\": wordnet.ADJ,\n",
        "              \"N\": wordnet.NOUN,\n",
        "              \"V\": wordnet.VERB,\n",
        "              \"R\": wordnet.ADV}\n",
        "  return tag_dict.get(tag, wordnet.NOUN)\n",
        "\n",
        "# Lemmatize a text with POS tag\n",
        "def lemmatize(text, lemmatizer):\n",
        "  word_list = nltk.word_tokenize(text)\n",
        "  text_lemmatized = ' '.join([lemmatizer.lemmatize(word, get_pos_tag(word)) for word in word_list])\n",
        "  return text_lemmatized"
      ],
      "execution_count": null,
      "outputs": []
    },
    {
      "cell_type": "markdown",
      "metadata": {
        "id": "L32FORphPe78",
        "colab_type": "text"
      },
      "source": [
        "**Preprocessing**"
      ]
    },
    {
      "cell_type": "code",
      "metadata": {
        "id": "Rdt6tytCMLAj",
        "colab_type": "code",
        "colab": {}
      },
      "source": [
        "# Decontract, normalize, lemmatize, lowercase and tokenize text samples\n",
        "tokenizer = Tokenizer(num_words=max_words, lower=True, oov_token=\"unk\")\n",
        "tokenizer.fit_on_texts(\n",
        "    [lemmatize(normalize(decontract(sample)), lemmatizer) for sample in x_data])\n",
        "\n",
        "x_train_prepro = tokenizer.texts_to_sequences(\n",
        "    [lemmatize(normalize(decontract(sample)), lemmatizer) for sample in x_train])\n",
        "x_valid_prepro = tokenizer.texts_to_sequences(\n",
        "    [lemmatize(normalize(decontract(sample)), lemmatizer) for sample in x_valid])\n",
        "x_test_prepro = tokenizer.texts_to_sequences( \n",
        "    [lemmatize(normalize(decontract(sample)), lemmatizer) for sample in x_test])\n",
        "\n",
        "# Padding\n",
        "x_train_prepro = pad_sequences(x_train_prepro,  maxlen=maxlen, padding=\"post\")\n",
        "x_valid_prepro = pad_sequences(x_valid_prepro,  maxlen=maxlen, padding=\"post\")\n",
        "x_test_prepro = pad_sequences(x_test_prepro,  maxlen=maxlen, padding=\"post\")\n",
        "\n",
        "# Vocabulary\n",
        "x_vocab = tokenizer.word_index\n",
        "x_vocab_size = min(max_words, len(x_vocab) + 1)"
      ],
      "execution_count": null,
      "outputs": []
    },
    {
      "cell_type": "code",
      "metadata": {
        "id": "B1HOYEY-MKvC",
        "colab_type": "code",
        "colab": {
          "base_uri": "https://localhost:8080/",
          "height": 34
        },
        "outputId": "5e2a2b9d-346b-4c48-d3e2-632726c1d7c4"
      },
      "source": [
        "x_vocab_size"
      ],
      "execution_count": null,
      "outputs": [
        {
          "output_type": "execute_result",
          "data": {
            "text/plain": [
              "502"
            ]
          },
          "metadata": {
            "tags": []
          },
          "execution_count": 13
        }
      ]
    },
    {
      "cell_type": "markdown",
      "metadata": {
        "id": "G8EMs0FFhqr0",
        "colab_type": "text"
      },
      "source": [
        "## Featurization\n"
      ]
    },
    {
      "cell_type": "markdown",
      "metadata": {
        "id": "jeHxVr2TajDi",
        "colab_type": "text"
      },
      "source": [
        "### GloVe embedding\n",
        "\n",
        "We use [GloVe](https://nlp.stanford.edu/projects/glove/) embedder that is an unsupervised learning algorithm for obtaining vector representations for words.\n",
        "\n",
        "In our case, we select 100-dimensional GloVe embeddings of 400k words computed on a 2014 dump of English Wikipedia.\n",
        "\n",
        "**Parsing the GloVe word-embeddings file**"
      ]
    },
    {
      "cell_type": "code",
      "metadata": {
        "id": "uWL00Q_YaePb",
        "colab_type": "code",
        "colab": {
          "base_uri": "https://localhost:8080/",
          "height": 34
        },
        "outputId": "41de1047-b2e6-467a-8fad-7a16b16eb169"
      },
      "source": [
        "embeddings_index = {}\n",
        " \n",
        "with open(glove_path, encoding=\"utf8\") as f:\n",
        "    for line in f:\n",
        "        values = line.split()\n",
        "        word = values[0]\n",
        "        embed = np.asarray(values[1:], dtype=\"float32\")\n",
        "        embeddings_index[word] = embed\n",
        "\n",
        "print(\"Found %s word vectors.\" % len(embeddings_index))"
      ],
      "execution_count": null,
      "outputs": [
        {
          "output_type": "stream",
          "text": [
            "Found 400000 word vectors.\n"
          ],
          "name": "stdout"
        }
      ]
    },
    {
      "cell_type": "markdown",
      "metadata": {
        "id": "5gWrJfPS69zI",
        "colab_type": "text"
      },
      "source": [
        "**Preparing the GloVe word-embeddings matrix**"
      ]
    },
    {
      "cell_type": "code",
      "metadata": {
        "id": "d2i45OhTTcHM",
        "colab_type": "code",
        "colab": {}
      },
      "source": [
        "embedding_dim = 100\n",
        "\n",
        "# Words not found in the embedding index will be all zeros\n",
        "embedding_matrix = np.zeros((max_words, embedding_dim), dtype=\"float32\")\n",
        " \n",
        "for word, i in x_vocab.items():\n",
        "  if i < max_words:\n",
        "    embedding_vector = embeddings_index.get(word)\n",
        "    if embedding_vector is not None:\n",
        "        embedding_matrix[i] = embedding_vector"
      ],
      "execution_count": null,
      "outputs": []
    },
    {
      "cell_type": "markdown",
      "metadata": {
        "id": "oD1wfR3JTdZd",
        "colab_type": "text"
      },
      "source": [
        "### Labels (Multi-Label Binarizer)"
      ]
    },
    {
      "cell_type": "markdown",
      "metadata": {
        "id": "jN7ZGTK03u6T",
        "colab_type": "text"
      },
      "source": [
        "On the other hand, the labels will be encoded as *n* binary elements in an array, where *n* is the total number of labels.\n",
        "\n",
        "The binary vector (associated to each sample) indicates the presence of labels."
      ]
    },
    {
      "cell_type": "code",
      "metadata": {
        "id": "ifSDDPi9c3QC",
        "colab_type": "code",
        "colab": {}
      },
      "source": [
        "# Load the labels\n",
        "labels_obj = open(dataset_path + \"labels.obj\", \"rb\")\n",
        "labels = pickle.load(labels_obj)\n",
        "labels_obj.close()"
      ],
      "execution_count": null,
      "outputs": []
    },
    {
      "cell_type": "code",
      "metadata": {
        "id": "yR05a98ITcRo",
        "colab_type": "code",
        "colab": {}
      },
      "source": [
        "# Build the multi-label binarizer\n",
        "mlb = MultiLabelBinarizer(classes=labels)\n",
        "\n",
        "# Binarize the datasets\n",
        "y_train_mlb = mlb.fit_transform(y_train)\n",
        "y_valid_mlb = mlb.fit_transform(y_valid)\n",
        "y_test_mlb = mlb.fit_transform(y_test)"
      ],
      "execution_count": null,
      "outputs": []
    },
    {
      "cell_type": "markdown",
      "metadata": {
        "id": "f4n6dhYK_Tr9",
        "colab_type": "text"
      },
      "source": [
        "## Neural model"
      ]
    },
    {
      "cell_type": "code",
      "metadata": {
        "id": "o3xIjy9RL-cR",
        "colab_type": "code",
        "colab": {}
      },
      "source": [
        "# Model name based on the feature layer (embed/glove)\n",
        "model_name = \"neural_model_glove\""
      ],
      "execution_count": null,
      "outputs": []
    },
    {
      "cell_type": "markdown",
      "metadata": {
        "id": "Gl02VsPwt3Cs",
        "colab_type": "text"
      },
      "source": [
        "### Network definition\n",
        "\n",
        "The model is defined using the Keras functional API."
      ]
    },
    {
      "cell_type": "code",
      "metadata": {
        "id": "KSm7JzgVJJwy",
        "colab_type": "code",
        "colab": {
          "base_uri": "https://localhost:8080/",
          "height": 442
        },
        "outputId": "818a6f48-6dda-40c7-8b99-f371a367fadb"
      },
      "source": [
        "input = Input(shape=(maxlen,))\n",
        "\n",
        "# Word embedding layer\n",
        "#x = Embedding(max_words, 128)(input)\n",
        "\n",
        "# Glove embedding layer\n",
        "x = Embedding(max_words, embedding_dim, weights=[embedding_matrix], trainable=False)(input)\n",
        "\n",
        "x = Bidirectional(LSTM(256, return_sequences=True))(x)\n",
        "\n",
        "x = Conv1D(128, kernel_size=5, padding=\"same\")(x)\n",
        "\n",
        "avg_pool = GlobalAveragePooling1D()(x)\n",
        "max_pool = GlobalMaxPooling1D()(x)\n",
        "\n",
        "x = concatenate([avg_pool, max_pool])\n",
        "\n",
        "output = Dense(len(labels), activation=\"sigmoid\")(x)\n",
        " \n",
        "model = Model(input, output)\n",
        " \n",
        "model.summary()"
      ],
      "execution_count": null,
      "outputs": [
        {
          "output_type": "stream",
          "text": [
            "Model: \"model_1\"\n",
            "__________________________________________________________________________________________________\n",
            "Layer (type)                    Output Shape         Param #     Connected to                     \n",
            "==================================================================================================\n",
            "input_2 (InputLayer)            [(None, 18)]         0                                            \n",
            "__________________________________________________________________________________________________\n",
            "embedding_1 (Embedding)         (None, 18, 100)      55000       input_2[0][0]                    \n",
            "__________________________________________________________________________________________________\n",
            "bidirectional_1 (Bidirectional) (None, 18, 512)      731136      embedding_1[0][0]                \n",
            "__________________________________________________________________________________________________\n",
            "conv1d_1 (Conv1D)               (None, 18, 128)      327808      bidirectional_1[0][0]            \n",
            "__________________________________________________________________________________________________\n",
            "global_average_pooling1d_1 (Glo (None, 128)          0           conv1d_1[0][0]                   \n",
            "__________________________________________________________________________________________________\n",
            "global_max_pooling1d_1 (GlobalM (None, 128)          0           conv1d_1[0][0]                   \n",
            "__________________________________________________________________________________________________\n",
            "concatenate_1 (Concatenate)     (None, 256)          0           global_average_pooling1d_1[0][0] \n",
            "                                                                 global_max_pooling1d_1[0][0]     \n",
            "__________________________________________________________________________________________________\n",
            "dense_1 (Dense)                 (None, 29)           7453        concatenate_1[0][0]              \n",
            "==================================================================================================\n",
            "Total params: 1,121,397\n",
            "Trainable params: 1,066,397\n",
            "Non-trainable params: 55,000\n",
            "__________________________________________________________________________________________________\n"
          ],
          "name": "stdout"
        }
      ]
    },
    {
      "cell_type": "code",
      "metadata": {
        "id": "awRW0wojSMEi",
        "colab_type": "code",
        "colab": {}
      },
      "source": [
        "model.compile(optimizer=Adam(learning_rate=0.1), loss=\"binary_crossentropy\", metrics=[\"accuracy\"])"
      ],
      "execution_count": null,
      "outputs": []
    },
    {
      "cell_type": "markdown",
      "metadata": {
        "id": "xb4ghTMhfY_2",
        "colab_type": "text"
      },
      "source": [
        "Architecture of the neural network:"
      ]
    },
    {
      "cell_type": "code",
      "metadata": {
        "id": "yEW1ki4zfdVJ",
        "colab_type": "code",
        "colab": {
          "base_uri": "https://localhost:8080/",
          "height": 754
        },
        "outputId": "189983f0-b3b1-45be-9b38-438176faa334"
      },
      "source": [
        "plot_path = neural_path + model_name + \".png\"\n",
        "\n",
        "plot_model(model, to_file=plot_path, show_shapes=True, show_layer_names=False)"
      ],
      "execution_count": null,
      "outputs": [
        {
          "output_type": "execute_result",
          "data": {
            "image/png": "[encoded data removed]",
            "text/plain": [
              "<IPython.core.display.Image object>"
            ]
          },
          "metadata": {
            "tags": []
          },
          "execution_count": 41
        }
      ]
    },
    {
      "cell_type": "markdown",
      "metadata": {
        "id": "_ZdbcTMrg8TZ",
        "colab_type": "text"
      },
      "source": [
        "###Training & validation"
      ]
    },
    {
      "cell_type": "code",
      "metadata": {
        "id": "e59Hh1YxbyVm",
        "colab_type": "code",
        "colab": {
          "base_uri": "https://localhost:8080/",
          "height": 394
        },
        "outputId": "8ce14e3a-1f8a-4e3c-f16f-22a06320f4a1"
      },
      "source": [
        "epochs = 50\n",
        "batch_size = 128\n",
        "\n",
        "callbacks_list = [\n",
        "  # Interrupts training when improvements stops\n",
        "  EarlyStopping(monitor=\"val_loss\", patience=5),\n",
        "  # Save the best model\n",
        "  ModelCheckpoint(filepath=neural_path + model_name + \".h5\",\n",
        "                  monitor=\"val_loss\",\n",
        "                  save_best_only=True)\n",
        "]\n",
        "\n",
        "model.fit(x_train_prepro, y_train_mlb,\n",
        "          epochs=epochs,\n",
        "          batch_size=batch_size,\n",
        "          validation_data=(x_valid_prepro, y_valid_mlb),\n",
        "          callbacks=callbacks_list,\n",
        "          verbose=1)"
      ],
      "execution_count": null,
      "outputs": [
        {
          "output_type": "stream",
          "text": [
            "Epoch 1/50\n",
            "64/64 [==============================] - 2s 33ms/step - loss: 0.1035 - accuracy: 0.8519 - val_loss: 0.3202 - val_accuracy: 0.8525\n",
            "Epoch 2/50\n",
            "64/64 [==============================] - 2s 32ms/step - loss: 0.1186 - accuracy: 0.8382 - val_loss: 0.2666 - val_accuracy: 0.8214\n",
            "Epoch 3/50\n",
            "64/64 [==============================] - 2s 32ms/step - loss: 0.0743 - accuracy: 0.8096 - val_loss: 0.2449 - val_accuracy: 0.8382\n",
            "Epoch 4/50\n",
            "64/64 [==============================] - 2s 32ms/step - loss: 0.0775 - accuracy: 0.8057 - val_loss: 0.3655 - val_accuracy: 0.8393\n",
            "Epoch 5/50\n",
            "64/64 [==============================] - 2s 31ms/step - loss: 0.0797 - accuracy: 0.7802 - val_loss: 0.2399 - val_accuracy: 0.8126\n",
            "Epoch 6/50\n",
            "64/64 [==============================] - 2s 30ms/step - loss: 0.0766 - accuracy: 0.7812 - val_loss: 0.3078 - val_accuracy: 0.7930\n",
            "Epoch 7/50\n",
            "64/64 [==============================] - 2s 30ms/step - loss: 0.1173 - accuracy: 0.7988 - val_loss: 0.2977 - val_accuracy: 0.8289\n",
            "Epoch 8/50\n",
            "64/64 [==============================] - 2s 31ms/step - loss: 0.1534 - accuracy: 0.7803 - val_loss: 0.3490 - val_accuracy: 0.7917\n",
            "Epoch 9/50\n",
            "64/64 [==============================] - 2s 31ms/step - loss: 27.8325 - accuracy: 0.5900 - val_loss: 91.5535 - val_accuracy: 0.3853\n",
            "Epoch 10/50\n",
            "64/64 [==============================] - 2s 31ms/step - loss: 132.2026 - accuracy: 0.5099 - val_loss: 66.5742 - val_accuracy: 0.6768\n"
          ],
          "name": "stdout"
        },
        {
          "output_type": "execute_result",
          "data": {
            "text/plain": [
              "<tensorflow.python.keras.callbacks.History at 0x7f5161ace470>"
            ]
          },
          "metadata": {
            "tags": []
          },
          "execution_count": 51
        }
      ]
    },
    {
      "cell_type": "markdown",
      "metadata": {
        "id": "xHyw2b9Uw3IT",
        "colab_type": "text"
      },
      "source": [
        "### Evaluation"
      ]
    },
    {
      "cell_type": "code",
      "metadata": {
        "id": "v0BVmNxKVz_t",
        "colab_type": "code",
        "colab": {}
      },
      "source": [
        "# Map a probability vector into a binary vector given a confident threshold\n",
        "def probab2mlb(probab, threshold):\n",
        "  mlb = np.zeros(np.shape(probab), dtype=int)\n",
        "  for index in range(len(probab)):\n",
        "    mlb[index, list(np.where(np.array(probab[index]) > threshold)[0])] = 1\n",
        "  return mlb"
      ],
      "execution_count": null,
      "outputs": []
    },
    {
      "cell_type": "markdown",
      "metadata": {
        "id": "V40nhk17M-eK",
        "colab_type": "text"
      },
      "source": [
        "#### Embedding layer"
      ]
    },
    {
      "cell_type": "code",
      "metadata": {
        "id": "N0DQjYPrNEbV",
        "colab_type": "code",
        "colab": {}
      },
      "source": [
        "model_name = \"neural_model_embed\"\n",
        "\n",
        "neural_model_embed = load_model(neural_path + model_name + \".h5\")"
      ],
      "execution_count": null,
      "outputs": []
    },
    {
      "cell_type": "markdown",
      "metadata": {
        "id": "BUDW7oQSo9Ej",
        "colab_type": "text"
      },
      "source": [
        "**Accuracy**"
      ]
    },
    {
      "cell_type": "code",
      "metadata": {
        "id": "r1ob4ew5wKNn",
        "colab_type": "code",
        "colab": {
          "base_uri": "https://localhost:8080/",
          "height": 51
        },
        "outputId": "95d91b82-8b23-44ba-b237-2b8a604a2e42"
      },
      "source": [
        "print(\"Accuracy: %s\" % round(neural_model_embed.evaluate(x_test_prepro, y_test_mlb, verbose=1)[1], 4))"
      ],
      "execution_count": null,
      "outputs": [
        {
          "output_type": "stream",
          "text": [
            "181/181 [==============================] - 2s 9ms/step - loss: 6.6729 - accuracy: 0.8908\n",
            "Accuracy: 0.8908\n"
          ],
          "name": "stdout"
        }
      ]
    },
    {
      "cell_type": "markdown",
      "metadata": {
        "id": "onCzsjj6Nu3g",
        "colab_type": "text"
      },
      "source": [
        "**Precision, Recall & F1-Score**"
      ]
    },
    {
      "cell_type": "code",
      "metadata": {
        "id": "aTSRDH5PNu0C",
        "colab_type": "code",
        "colab": {}
      },
      "source": [
        "# Predicted probability vector\n",
        "y_test_prob_pred = neural_model_embed.predict(x_test_prepro)\n",
        "\n",
        "# Predicted binary vector\n",
        "y_test_mlb_pred = probab2mlb(y_test_prob_pred, threshold=0.5)"
      ],
      "execution_count": null,
      "outputs": []
    },
    {
      "cell_type": "code",
      "metadata": {
        "id": "jWyRR7v-pWLz",
        "colab_type": "code",
        "colab": {
          "base_uri": "https://localhost:8080/",
          "height": 646
        },
        "outputId": "85d38eae-1ef3-42e6-aff7-705a56094006"
      },
      "source": [
        "print(metrics.classification_report(y_test_mlb, y_test_mlb_pred, target_names=labels, zero_division=0))"
      ],
      "execution_count": null,
      "outputs": [
        {
          "output_type": "stream",
          "text": [
            "                    precision    recall  f1-score   support\n",
            "\n",
            "               ack       0.75      0.43      0.55         7\n",
            "            affirm       1.00      0.95      0.97       326\n",
            "               bye       0.99      1.00      1.00       619\n",
            "      confirm_area       0.40      1.00      0.57         2\n",
            "      confirm_food       0.79      0.92      0.85        25\n",
            "confirm_pricerange       0.88      1.00      0.93         7\n",
            "         deny_food       0.00      0.00      0.00         2\n",
            "         deny_name       0.00      0.00      0.00         0\n",
            "             hello       0.85      1.00      0.92        28\n",
            "       inform_area       0.98      0.98      0.98       653\n",
            "       inform_food       0.96      0.97      0.96      1439\n",
            "       inform_name       0.00      0.00      0.00        15\n",
            " inform_pricerange       0.99      0.99      0.99       526\n",
            "       inform_this       0.98      0.99      0.98       537\n",
            "            negate       0.97      0.91      0.94        69\n",
            "            repeat       1.00      0.26      0.42        19\n",
            "           reqalts       0.94      0.96      0.95       458\n",
            "           reqmore       0.00      0.00      0.00         0\n",
            "      request_addr       0.98      1.00      0.99       512\n",
            "      request_area       0.94      0.94      0.94        51\n",
            "      request_food       0.92      0.97      0.94       119\n",
            "     request_phone       1.00      0.99      1.00       511\n",
            "  request_postcode       1.00      0.98      0.99       112\n",
            "request_pricerange       1.00      1.00      1.00        79\n",
            "           restart       0.00      0.00      0.00         0\n",
            "          thankyou       0.98      1.00      0.99       606\n",
            " request_signature       0.00      0.00      0.00         0\n",
            "      request_name       0.00      0.00      0.00         4\n",
            "           unknown       0.91      0.90      0.91       503\n",
            "\n",
            "         micro avg       0.97      0.97      0.97      7229\n",
            "         macro avg       0.70      0.69      0.68      7229\n",
            "      weighted avg       0.97      0.97      0.97      7229\n",
            "       samples avg       0.96      0.97      0.96      7229\n",
            "\n"
          ],
          "name": "stdout"
        }
      ]
    },
    {
      "cell_type": "markdown",
      "metadata": {
        "id": "7clZ8C4eNF7p",
        "colab_type": "text"
      },
      "source": [
        "#### GloVe embedding"
      ]
    },
    {
      "cell_type": "code",
      "metadata": {
        "id": "rrH4tJQBNFeN",
        "colab_type": "code",
        "colab": {}
      },
      "source": [
        "model_name = \"neural_model_glove\"\n",
        "\n",
        "neural_model_glove = load_model(neural_path + model_name + \".h5\")"
      ],
      "execution_count": null,
      "outputs": []
    },
    {
      "cell_type": "markdown",
      "metadata": {
        "id": "wmm4NKrypNgM",
        "colab_type": "text"
      },
      "source": [
        "**Accuracy**"
      ]
    },
    {
      "cell_type": "code",
      "metadata": {
        "id": "-LAXszNyrHqF",
        "colab_type": "code",
        "colab": {
          "base_uri": "https://localhost:8080/",
          "height": 51
        },
        "outputId": "36cae93e-8366-4c32-9959-cb7f179b6d52"
      },
      "source": [
        "print(\"Accuracy: %s\" % round(neural_model_glove.evaluate(x_test_prepro, y_test_mlb, verbose=1)[1], 4))"
      ],
      "execution_count": null,
      "outputs": [
        {
          "output_type": "stream",
          "text": [
            "181/181 [==============================] - 2s 9ms/step - loss: 0.2734 - accuracy: 0.8175\n",
            "Accuracy: 0.8175\n"
          ],
          "name": "stdout"
        }
      ]
    },
    {
      "cell_type": "markdown",
      "metadata": {
        "id": "E8am2RQEpZee",
        "colab_type": "text"
      },
      "source": [
        "**Precision, Recall & F1-Score**"
      ]
    },
    {
      "cell_type": "code",
      "metadata": {
        "id": "s6DFM_cgpbFD",
        "colab_type": "code",
        "colab": {}
      },
      "source": [
        "# Predicted probability vector\n",
        "y_test_prob_pred = neural_model_glove.predict(x_test_prepro)\n",
        "\n",
        "# Predicted binary vector\n",
        "y_test_mlb_pred = probab2mlb(y_test_prob_pred, threshold=0.5)"
      ],
      "execution_count": null,
      "outputs": []
    },
    {
      "cell_type": "code",
      "metadata": {
        "id": "hENA-E4QVXOn",
        "colab_type": "code",
        "colab": {
          "base_uri": "https://localhost:8080/",
          "height": 646
        },
        "outputId": "1eaa8a23-d195-478f-831f-106ee1c9d519"
      },
      "source": [
        "print(metrics.classification_report(y_test_mlb, y_test_mlb_pred, target_names=labels, zero_division=0))"
      ],
      "execution_count": null,
      "outputs": [
        {
          "output_type": "stream",
          "text": [
            "                    precision    recall  f1-score   support\n",
            "\n",
            "               ack       1.00      0.43      0.60         7\n",
            "            affirm       1.00      0.80      0.89       326\n",
            "               bye       0.98      1.00      0.99       619\n",
            "      confirm_area       0.67      1.00      0.80         2\n",
            "      confirm_food       1.00      0.60      0.75        25\n",
            "confirm_pricerange       1.00      0.86      0.92         7\n",
            "         deny_food       0.00      0.00      0.00         2\n",
            "         deny_name       0.00      0.00      0.00         0\n",
            "             hello       0.96      0.93      0.95        28\n",
            "       inform_area       0.95      0.99      0.97       653\n",
            "       inform_food       0.96      0.96      0.96      1439\n",
            "       inform_name       0.00      0.00      0.00        15\n",
            " inform_pricerange       0.97      0.98      0.98       526\n",
            "       inform_this       1.00      0.97      0.98       537\n",
            "            negate       1.00      0.77      0.87        69\n",
            "            repeat       1.00      0.26      0.42        19\n",
            "           reqalts       0.97      0.80      0.88       458\n",
            "           reqmore       0.00      0.00      0.00         0\n",
            "      request_addr       0.95      1.00      0.97       512\n",
            "      request_area       1.00      0.82      0.90        51\n",
            "      request_food       0.96      0.97      0.97       119\n",
            "     request_phone       1.00      0.99      1.00       511\n",
            "  request_postcode       0.79      1.00      0.88       112\n",
            "request_pricerange       1.00      0.84      0.91        79\n",
            "           restart       0.00      0.00      0.00         0\n",
            "          thankyou       0.97      1.00      0.98       606\n",
            " request_signature       0.00      0.00      0.00         0\n",
            "      request_name       0.00      0.00      0.00         4\n",
            "           unknown       0.98      0.84      0.91       503\n",
            "\n",
            "         micro avg       0.97      0.94      0.95      7229\n",
            "         macro avg       0.73      0.65      0.67      7229\n",
            "      weighted avg       0.97      0.94      0.95      7229\n",
            "       samples avg       0.94      0.94      0.94      7229\n",
            "\n"
          ],
          "name": "stdout"
        }
      ]
    },
    {
      "cell_type": "markdown",
      "metadata": {
        "id": "BgMiJFoSb3Kc",
        "colab_type": "text"
      },
      "source": [
        "### Predictions"
      ]
    },
    {
      "cell_type": "code",
      "metadata": {
        "id": "HHtg9kbtYTrP",
        "colab_type": "code",
        "colab": {}
      },
      "source": [
        "# Model name based on the feature layer (embed/glove)\n",
        "model_name = \"neural_model_embed\""
      ],
      "execution_count": null,
      "outputs": []
    },
    {
      "cell_type": "markdown",
      "metadata": {
        "id": "U2PMaAclv5SU",
        "colab_type": "text"
      },
      "source": [
        "We inspect some predictions."
      ]
    },
    {
      "cell_type": "code",
      "metadata": {
        "id": "-0NbTCWTWvs6",
        "colab_type": "code",
        "colab": {}
      },
      "source": [
        "neural_model = load_model(neural_path + model_name + \".h5\")"
      ],
      "execution_count": null,
      "outputs": []
    },
    {
      "cell_type": "code",
      "metadata": {
        "id": "WkOIolg3v5wP",
        "colab_type": "code",
        "colab": {}
      },
      "source": [
        "# Predicted probability vector\n",
        "y_test_prob_pred = neural_model.predict(x_test_prepro)\n",
        "\n",
        "# Predicted binary vector\n",
        "y_test_mlb_pred = probab2mlb(y_test_prob_pred, threshold=0.5)\n",
        "\n",
        "# Predicted labels\n",
        "y_test_pred = mlb.inverse_transform(y_test_mlb_pred)"
      ],
      "execution_count": null,
      "outputs": []
    },
    {
      "cell_type": "code",
      "metadata": {
        "id": "i6zqoz4Vv6Qh",
        "colab_type": "code",
        "colab": {
          "base_uri": "https://localhost:8080/",
          "height": 187
        },
        "outputId": "f9e30f5a-6e90-44bc-9420-0fc7e408753c"
      },
      "source": [
        "index_sample = 0\n",
        "\n",
        "print(\"User's utterance: %s\" % x_test[index_sample])\n",
        "\n",
        "print(\"\\nTrue label: %s\" % y_test[index_sample])\n",
        "print(\"Predicted label: %s\" % list(y_test_pred[index_sample]))\n",
        "\n",
        "print(\"\\nTrue binary label: %s\" % y_test_mlb[index_sample])\n",
        "print(\"Predicted binary label: %s\" % y_test_mlb_pred[index_sample])\n",
        "\n",
        "print(\"\\nPredicted prob label: %s\" % y_test_prob_pred[index_sample])"
      ],
      "execution_count": null,
      "outputs": [
        {
          "output_type": "stream",
          "text": [
            "User's utterance: uh yes im looking for a cheap restaurant in the west part of town\n",
            "\n",
            "True label: ['affirm', 'inform_pricerange', 'inform_area']\n",
            "Predicted label: ['affirm', 'inform_area', 'inform_pricerange']\n",
            "\n",
            "True binary label: [0 1 0 0 0 0 0 0 0 1 0 0 1 0 0 0 0 0 0 0 0 0 0 0 0 0 0 0 0]\n",
            "Predicted binary label: [0 1 0 0 0 0 0 0 0 1 0 0 1 0 0 0 0 0 0 0 0 0 0 0 0 0 0 0 0]\n",
            "\n",
            "Predicted prob label: [0. 1. 0. 0. 0. 0. 0. 0. 0. 1. 0. 0. 1. 0. 0. 0. 0. 0. 0. 0. 0. 0. 0. 0.\n",
            " 0. 0. 0. 0. 0.]\n"
          ],
          "name": "stdout"
        }
      ]
    }
  ]
}