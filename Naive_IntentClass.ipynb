{
  "nbformat": 4,
  "nbformat_minor": 0,
  "metadata": {
    "colab": {
      "name": "Naive_IntentClass.ipynb",
      "provenance": [],
      "collapsed_sections": [],
      "toc_visible": true
    },
    "kernelspec": {
      "name": "python3",
      "display_name": "Python 3"
    }
  },
  "cells": [
    {
      "cell_type": "markdown",
      "metadata": {
        "id": "KfNjkV0bktU0",
        "colab_type": "text"
      },
      "source": [
        "# Naive Bayes Classifier\n",
        "\n",
        "Intent classification system based on the multinomial Naive Bayes model for the restaurant information search.\n",
        "\n",
        "\n",
        "\n",
        "\n"
      ]
    },
    {
      "cell_type": "markdown",
      "metadata": {
        "id": "bZoCzg0eKG82",
        "colab_type": "text"
      },
      "source": [
        "## Required libraries"
      ]
    },
    {
      "cell_type": "code",
      "metadata": {
        "id": "8W0JKuZuKHXN",
        "colab_type": "code",
        "colab": {}
      },
      "source": [
        "# Keras\n",
        "from tensorflow.keras.preprocessing.text import Tokenizer\n",
        "\n",
        "# NLTK\n",
        "import nltk\n",
        "from nltk.stem import WordNetLemmatizer\n",
        "from nltk.corpus import wordnet\n",
        "\n",
        "# SKlearn\n",
        "from sklearn.preprocessing import MultiLabelBinarizer\n",
        "from sklearn.naive_bayes import MultinomialNB\n",
        "from sklearn.multiclass import OneVsRestClassifier\n",
        "from sklearn.model_selection import GridSearchCV\n",
        "from sklearn import metrics\n",
        "\n",
        "# Joblib\n",
        "from joblib import dump, load\n",
        "\n",
        "# NumPy\n",
        "import numpy as np\n",
        "\n",
        "# Standard\n",
        "import pickle"
      ],
      "execution_count": null,
      "outputs": []
    },
    {
      "cell_type": "markdown",
      "metadata": {
        "id": "ysUgYtoA0fgz",
        "colab_type": "text"
      },
      "source": [
        "## Paths"
      ]
    },
    {
      "cell_type": "markdown",
      "metadata": {
        "id": "NtB2A30EHwXK",
        "colab_type": "text"
      },
      "source": [
        "The datasets and dictionaries used in this notebook can be downloaded from this [link](https://drive.google.com/drive/folders/178Sv30P-OvoJc_QOOAYkmUHgcQsPg-rb?usp=sharing). Also, it will be necessary to change the path of the `dataset_path` variable to the path wherein the downloaded information is saved. \n",
        "\n",
        "**Notes:** \n",
        "\n",
        "* The downloaded data can be obtained using the *TextAnalysis_DSTC2.ipynb* notebook.\n",
        "* Only a UC3M user can access to the download link."
      ]
    },
    {
      "cell_type": "code",
      "metadata": {
        "id": "U57p__dC0n8h",
        "colab_type": "code",
        "colab": {
          "base_uri": "https://localhost:8080/",
          "height": 153
        },
        "outputId": "1bd9e870-23e4-4240-cdaf-b84f71ee28b3"
      },
      "source": [
        "dataset_path = \"/content/drive/My Drive/_TFM/Notebooks/Datasets/\"\n",
        "naive_path = \"/content/drive/My Drive/_TFM/Notebooks/Models/naive/\"\n",
        "\n",
        "# Download some tools for the NLTK library\n",
        "nltk.download(\"wordnet\")\n",
        "nltk.download(\"punkt\")\n",
        "nltk.download('averaged_perceptron_tagger')"
      ],
      "execution_count": null,
      "outputs": [
        {
          "output_type": "stream",
          "text": [
            "[nltk_data] Downloading package wordnet to /root/nltk_data...\n",
            "[nltk_data]   Unzipping corpora/wordnet.zip.\n",
            "[nltk_data] Downloading package punkt to /root/nltk_data...\n",
            "[nltk_data]   Unzipping tokenizers/punkt.zip.\n",
            "[nltk_data] Downloading package averaged_perceptron_tagger to\n",
            "[nltk_data]     /root/nltk_data...\n",
            "[nltk_data]   Unzipping taggers/averaged_perceptron_tagger.zip.\n"
          ],
          "name": "stdout"
        },
        {
          "output_type": "execute_result",
          "data": {
            "text/plain": [
              "True"
            ]
          },
          "metadata": {
            "tags": []
          },
          "execution_count": 3
        }
      ]
    },
    {
      "cell_type": "markdown",
      "metadata": {
        "id": "HZdTPM-2F_x_",
        "colab_type": "text"
      },
      "source": [
        "## Data reading"
      ]
    },
    {
      "cell_type": "markdown",
      "metadata": {
        "id": "sXNpTM0d1qlA",
        "colab_type": "text"
      },
      "source": [
        "DSTC 2 dataset provides dialogues of a human talking to a information system labelled with slots and dialogue actions.\n",
        "\n",
        "In our case, the labels will be the users' intents which are the combination of acts and slots.\n",
        "\n",
        "The data only has information about users' utterances."
      ]
    },
    {
      "cell_type": "markdown",
      "metadata": {
        "id": "AFbOzzh910T5",
        "colab_type": "text"
      },
      "source": [
        "**Load dataset**"
      ]
    },
    {
      "cell_type": "code",
      "metadata": {
        "id": "1R3w5Dgn1rQS",
        "colab_type": "code",
        "colab": {}
      },
      "source": [
        "# x_train\n",
        "x_train_obj = open(dataset_path + \"x_train.obj\", \"rb\")\n",
        "x_train = pickle.load(x_train_obj)\n",
        "x_train_obj.close()\n",
        "\n",
        "# y_train\n",
        "y_train_obj = open(dataset_path + \"y_train.obj\", \"rb\")\n",
        "y_train = pickle.load(y_train_obj)\n",
        "y_train_obj.close()\n",
        "\n",
        "# x_valid\n",
        "x_valid_obj = open(dataset_path + \"x_valid.obj\", \"rb\")\n",
        "x_valid = pickle.load(x_valid_obj)\n",
        "x_valid_obj.close()\n",
        "\n",
        "# y_valid\n",
        "y_valid_obj = open(dataset_path + \"y_valid.obj\", \"rb\")\n",
        "y_valid = pickle.load(y_valid_obj)\n",
        "y_valid_obj.close()\n",
        "\n",
        "# x_test\n",
        "x_test_obj = open(dataset_path + \"x_test.obj\", \"rb\")\n",
        "x_test = pickle.load(x_test_obj)\n",
        "x_test_obj.close()\n",
        "\n",
        "# y_test\n",
        "y_test_obj = open(dataset_path + \"y_test.obj\", \"rb\")\n",
        "y_test = pickle.load(y_test_obj)\n",
        "y_test_obj.close()"
      ],
      "execution_count": null,
      "outputs": []
    },
    {
      "cell_type": "markdown",
      "metadata": {
        "id": "f1HON1gz1snx",
        "colab_type": "text"
      },
      "source": [
        "**Check data**"
      ]
    },
    {
      "cell_type": "code",
      "metadata": {
        "id": "PlCX0-In1s64",
        "colab_type": "code",
        "colab": {
          "base_uri": "https://localhost:8080/",
          "height": 258
        },
        "outputId": "eeca9da2-9f23-4cf6-c401-31c1bf8e0ce7"
      },
      "source": [
        "print(\"Data = (X: users' utterances, y: intents)\")\n",
        "\n",
        "print(\"\\n  > Train data:\")\n",
        "print(\"Samples: 8148 = %s\" % len(x_train))\n",
        "print(list(zip(x_train, y_train))[:3])\n",
        "\n",
        "print(\"\\n  > Validation data:\")\n",
        "print(\"Samples: 5656 = %s\" % len(x_valid))\n",
        "print(list(zip(x_valid, y_valid))[:3])\n",
        "\n",
        "print(\"\\n  > Test data:\")\n",
        "print(\"Samples: 5769 = %s\" % len(x_test))\n",
        "print(list(zip(x_test, y_test))[:3])"
      ],
      "execution_count": null,
      "outputs": [
        {
          "output_type": "stream",
          "text": [
            "Data = (X: users' utterances, y: intents)\n",
            "\n",
            "  > Train data:\n",
            "Samples: 8148 = 8148\n",
            "[('cheap restaurant', ['inform_pricerange']), ('any', ['inform_this']), ('south', ['inform_area'])]\n",
            "\n",
            "  > Validation data:\n",
            "Samples: 5656 = 5656\n",
            "[('sil', ['unknown']), ('north part of town serving gastropub food', ['inform_food', 'inform_area']), ('north part of town serving gastropub food', ['inform_food', 'inform_area'])]\n",
            "\n",
            "  > Test data:\n",
            "Samples: 5769 = 5769\n",
            "[('uh yes im looking for a cheap restaurant in the west part of town', ['affirm', 'inform_pricerange', 'inform_area']), ('west', ['inform_area']), ('uh yes a cheap restaurant', ['affirm', 'inform_pricerange'])]\n"
          ],
          "name": "stdout"
        }
      ]
    },
    {
      "cell_type": "markdown",
      "metadata": {
        "id": "5dXnolIPhii_",
        "colab_type": "text"
      },
      "source": [
        "## Data preprocessing\n"
      ]
    },
    {
      "cell_type": "markdown",
      "metadata": {
        "id": "ZCP9IzbT9p9B",
        "colab_type": "text"
      },
      "source": [
        "Each text sample will follow the next pipeline:\n",
        "\n",
        "*raw text* > **decontraction** > **normalization** > **lemmatization** > **lowercasing** > **tokenization** > *tokens*\n",
        "\n",
        "And then, we will build the vocabulary including the UNK token."
      ]
    },
    {
      "cell_type": "markdown",
      "metadata": {
        "id": "qqEgQTDn27B0",
        "colab_type": "text"
      },
      "source": [
        "**Settings**"
      ]
    },
    {
      "cell_type": "code",
      "metadata": {
        "id": "fvlX5PviIN20",
        "colab_type": "code",
        "colab": {}
      },
      "source": [
        "# Merge all samples\n",
        "x_data = np.concatenate([x_train, x_valid, x_test])"
      ],
      "execution_count": null,
      "outputs": []
    },
    {
      "cell_type": "code",
      "metadata": {
        "id": "gsdCz_Ba27kM",
        "colab_type": "code",
        "colab": {}
      },
      "source": [
        "# Decontract funtion\n",
        "contracted_words_obj = open(dataset_path + \"contracted_words.obj\", \"rb\")\n",
        "contracted_words = pickle.load(contracted_words_obj)\n",
        "contracted_words_obj.close()\n",
        "\n",
        "def decontract(text):\n",
        "  for word in text.split():\n",
        "    if word.lower() in contracted_words:\n",
        "      text = text.replace(word, contracted_words[word.lower()])\n",
        "  return text\n",
        "\n",
        "# Normalize function\n",
        "normalized_words_obj = open(dataset_path + \"normalized_words.obj\", \"rb\")\n",
        "normalized_words = pickle.load(normalized_words_obj)\n",
        "normalized_words_obj.close()\n",
        "\n",
        "def normalize(text):\n",
        "  for word in text.split():\n",
        "    if word.lower() in normalized_words:\n",
        "      text = text.replace(word, normalized_words[word.lower()])\n",
        "  return text"
      ],
      "execution_count": null,
      "outputs": []
    },
    {
      "cell_type": "code",
      "metadata": {
        "id": "Q_AD1vzuIRA4",
        "colab_type": "code",
        "colab": {}
      },
      "source": [
        "# Lemmatize function\n",
        "\n",
        "# Set the lemmatizer\n",
        "lemmatizer = WordNetLemmatizer()\n",
        "\n",
        "# Get the POS tag for a given word\n",
        "def get_pos_tag(word):\n",
        "  tag = nltk.pos_tag([word])[0][1][0].upper()\n",
        "  tag_dict = {\"J\": wordnet.ADJ,\n",
        "              \"N\": wordnet.NOUN,\n",
        "              \"V\": wordnet.VERB,\n",
        "              \"R\": wordnet.ADV}\n",
        "  return tag_dict.get(tag, wordnet.NOUN)\n",
        "\n",
        "# Lemmatize a text with POS tag\n",
        "def lemmatize(text, lemmatizer):\n",
        "  word_list = nltk.word_tokenize(text)\n",
        "  text_lemmatized = ' '.join([lemmatizer.lemmatize(word, get_pos_tag(word)) for word in word_list])\n",
        "  return text_lemmatized"
      ],
      "execution_count": null,
      "outputs": []
    },
    {
      "cell_type": "markdown",
      "metadata": {
        "id": "GZpUipOn-A3O",
        "colab_type": "text"
      },
      "source": [
        "**Preprocessing**"
      ]
    },
    {
      "cell_type": "code",
      "metadata": {
        "id": "pbBmRY9v-BBZ",
        "colab_type": "code",
        "colab": {}
      },
      "source": [
        "# Decontract, normalize, lemmatize, lowercase and tokenize the text samples\n",
        "tokenizer = Tokenizer(lower=True, oov_token=\"unk\")\n",
        "tokenizer.fit_on_texts(\n",
        "    [lemmatize(normalize(decontract(sample)), lemmatizer) for sample in x_data])\n",
        "\n",
        "# Vocabulary\n",
        "x_vocab = tokenizer.word_index\n",
        "x_vocab_size = len(x_vocab) + 1"
      ],
      "execution_count": null,
      "outputs": []
    },
    {
      "cell_type": "code",
      "metadata": {
        "id": "4sproL8TUqZG",
        "colab_type": "code",
        "colab": {
          "base_uri": "https://localhost:8080/",
          "height": 34
        },
        "outputId": "9b07d558-34a1-4020-b08b-0b76b97917b3"
      },
      "source": [
        "x_vocab_size"
      ],
      "execution_count": null,
      "outputs": [
        {
          "output_type": "execute_result",
          "data": {
            "text/plain": [
              "502"
            ]
          },
          "metadata": {
            "tags": []
          },
          "execution_count": 11
        }
      ]
    },
    {
      "cell_type": "markdown",
      "metadata": {
        "id": "XpSIuoUS27vQ",
        "colab_type": "text"
      },
      "source": [
        "## Featurization"
      ]
    },
    {
      "cell_type": "markdown",
      "metadata": {
        "id": "hKwvb5Iq276Q",
        "colab_type": "text"
      },
      "source": [
        "### Tokens (Word Counts)\n"
      ]
    },
    {
      "cell_type": "code",
      "metadata": {
        "id": "HIdgDqj828EV",
        "colab_type": "code",
        "colab": {}
      },
      "source": [
        "# x_train\n",
        "x_train_eval = np.concatenate([x_train, x_valid])\n",
        "x_train_eval_wc = tokenizer.texts_to_matrix(\n",
        "    [lemmatize(normalize(decontract(sample)), lemmatizer) for sample in x_train_eval], mode=\"count\")\n",
        "\n",
        "# x_test\n",
        "x_test_wc = tokenizer.texts_to_matrix(\n",
        "    [lemmatize(normalize(decontract(sample)), lemmatizer) for sample in x_test], mode=\"count\")"
      ],
      "execution_count": null,
      "outputs": []
    },
    {
      "cell_type": "code",
      "metadata": {
        "id": "ODT-svKXV93F",
        "colab_type": "code",
        "colab": {
          "base_uri": "https://localhost:8080/",
          "height": 34
        },
        "outputId": "19b94d6b-e825-4f9c-b415-44ccb23c4478"
      },
      "source": [
        "np.shape(x_train_eval_wc)"
      ],
      "execution_count": null,
      "outputs": [
        {
          "output_type": "execute_result",
          "data": {
            "text/plain": [
              "(13804, 502)"
            ]
          },
          "metadata": {
            "tags": []
          },
          "execution_count": 13
        }
      ]
    },
    {
      "cell_type": "code",
      "metadata": {
        "id": "BwaRsKT1WMIh",
        "colab_type": "code",
        "colab": {
          "base_uri": "https://localhost:8080/",
          "height": 34
        },
        "outputId": "25f962cb-9797-4f40-b416-328a4871d359"
      },
      "source": [
        "np.shape(x_test_wc)"
      ],
      "execution_count": null,
      "outputs": [
        {
          "output_type": "execute_result",
          "data": {
            "text/plain": [
              "(5769, 502)"
            ]
          },
          "metadata": {
            "tags": []
          },
          "execution_count": 14
        }
      ]
    },
    {
      "cell_type": "markdown",
      "metadata": {
        "id": "CUMc2QxO3aQu",
        "colab_type": "text"
      },
      "source": [
        "### Labels (Multi-Label Binarizer)"
      ]
    },
    {
      "cell_type": "markdown",
      "metadata": {
        "id": "g2UjjpzE3aa0",
        "colab_type": "text"
      },
      "source": [
        "On the other hand, the labels will be encoded as *n* binary elements in an array, where *n* is the total number of labels.\n",
        "\n",
        "The binary vector (associated to each sample) indicates the presence of labels."
      ]
    },
    {
      "cell_type": "code",
      "metadata": {
        "id": "hkuMjfayM56G",
        "colab_type": "code",
        "colab": {}
      },
      "source": [
        "# Load the labels\n",
        "labels_obj = open(dataset_path + \"labels.obj\", \"rb\")\n",
        "labels = pickle.load(labels_obj)\n",
        "labels_obj.close()"
      ],
      "execution_count": null,
      "outputs": []
    },
    {
      "cell_type": "code",
      "metadata": {
        "id": "OsOwKVZQ3e2X",
        "colab_type": "code",
        "colab": {}
      },
      "source": [
        "# Build the multi-label binarizer\n",
        "mlb = MultiLabelBinarizer(classes=labels)\n",
        "\n",
        "# y_train\n",
        "y_train_eval = np.concatenate([y_train, y_valid])\n",
        "y_train_eval_mlb = mlb.fit_transform(y_train_eval)\n",
        "\n",
        "# y_test\n",
        "y_test_mlb = mlb.fit_transform(y_test)"
      ],
      "execution_count": null,
      "outputs": []
    },
    {
      "cell_type": "markdown",
      "metadata": {
        "id": "MqFut7cQiGd2",
        "colab_type": "text"
      },
      "source": [
        "## Multinomial Naive model"
      ]
    },
    {
      "cell_type": "markdown",
      "metadata": {
        "id": "DGBezdhjkyhQ",
        "colab_type": "text"
      },
      "source": [
        "In a multi-label scenario the Multinomial Naive Bayes model must be wrapped in the OneVsRestClassifier to apply the One-vs-the-Rest (OvR) multi-label strategy."
      ]
    },
    {
      "cell_type": "markdown",
      "metadata": {
        "id": "IpTR7RePl8ip",
        "colab_type": "text"
      },
      "source": [
        "### Hyper-parameter tuning"
      ]
    },
    {
      "cell_type": "code",
      "metadata": {
        "id": "pQQC_qTbl9cP",
        "colab_type": "code",
        "colab": {
          "base_uri": "https://localhost:8080/",
          "height": 34
        },
        "outputId": "bad6df61-d04c-417d-dfcd-f93848407252"
      },
      "source": [
        "# Define the model\n",
        "naive_model = OneVsRestClassifier(MultinomialNB(), n_jobs=1)\n",
        "\n",
        "naive_model.get_params().keys()"
      ],
      "execution_count": null,
      "outputs": [
        {
          "output_type": "execute_result",
          "data": {
            "text/plain": [
              "dict_keys(['estimator__alpha', 'estimator__class_prior', 'estimator__fit_prior', 'estimator', 'n_jobs'])"
            ]
          },
          "metadata": {
            "tags": []
          },
          "execution_count": 17
        }
      ]
    },
    {
      "cell_type": "code",
      "metadata": {
        "id": "xsve4b34l98y",
        "colab_type": "code",
        "colab": {}
      },
      "source": [
        "# Define the index of the train and validation data\n",
        "index_data = [i for i, _ in enumerate(x_train_eval)]\n",
        "index_train = index_data[:len(x_train)]\n",
        "index_valid = index_data[len(x_train):]"
      ],
      "execution_count": null,
      "outputs": []
    },
    {
      "cell_type": "code",
      "metadata": {
        "id": "UEGhWBuyl-sN",
        "colab_type": "code",
        "colab": {}
      },
      "source": [
        "# Define the hyper-parameters to tuning\n",
        "alpha = [1e-03, 1.0, 1.5, 2.0, 2.5, 3.0]\n",
        "param_grid = dict(estimator__alpha=alpha)"
      ],
      "execution_count": null,
      "outputs": []
    },
    {
      "cell_type": "code",
      "metadata": {
        "id": "X9GgCSmfl-7k",
        "colab_type": "code",
        "colab": {}
      },
      "source": [
        "# Tuning through Grid Search approach\n",
        "naive_tune_model = GridSearchCV(naive_model,\n",
        "                                param_grid=param_grid,\n",
        "                                scoring = \"accuracy\",\n",
        "                                cv=[(index_train, index_valid)],\n",
        "                                verbose=1,\n",
        "                                n_jobs=-1)"
      ],
      "execution_count": null,
      "outputs": []
    },
    {
      "cell_type": "code",
      "metadata": {
        "id": "saMNEa6Dl_Gb",
        "colab_type": "code",
        "colab": {
          "base_uri": "https://localhost:8080/",
          "height": 122
        },
        "outputId": "f39f8b99-0854-4bab-816b-15e10ec9d272"
      },
      "source": [
        "# Select the model with the best hyper-parameters\n",
        "naive_tune_model = naive_tune_model.fit(x_train_eval_wc, y_train_eval_mlb)"
      ],
      "execution_count": null,
      "outputs": [
        {
          "output_type": "stream",
          "text": [
            "Fitting 1 folds for each of 6 candidates, totalling 6 fits\n"
          ],
          "name": "stdout"
        },
        {
          "output_type": "stream",
          "text": [
            "[Parallel(n_jobs=-1)]: Using backend LokyBackend with 2 concurrent workers.\n",
            "[Parallel(n_jobs=-1)]: Done   6 out of   6 | elapsed:    5.1s finished\n",
            "/usr/local/lib/python3.6/dist-packages/sklearn/multiclass.py:75: UserWarning: Label not 27 is present in all training examples.\n",
            "  str(classes[c]))\n"
          ],
          "name": "stderr"
        }
      ]
    },
    {
      "cell_type": "code",
      "metadata": {
        "id": "edV_RgqpLKVW",
        "colab_type": "code",
        "colab": {
          "base_uri": "https://localhost:8080/",
          "height": 68
        },
        "outputId": "8d783e6e-5b8e-44d4-a4e4-bb37a978b815"
      },
      "source": [
        "print(\"--- Hyper-paremeters selected ---\\n\")\n",
        "print(\"Best accuracy: %f using %s\" % (naive_tune_model.best_score_, naive_tune_model.best_params_))"
      ],
      "execution_count": null,
      "outputs": [
        {
          "output_type": "stream",
          "text": [
            "--- Hyper-paremeters selected ---\n",
            "\n",
            "Best accuracy: 0.687412 using {'estimator__alpha': 1.5}\n"
          ],
          "name": "stdout"
        }
      ]
    },
    {
      "cell_type": "markdown",
      "metadata": {
        "id": "-rfVd829OmWB",
        "colab_type": "text"
      },
      "source": [
        "**Save the model**"
      ]
    },
    {
      "cell_type": "code",
      "metadata": {
        "id": "cG8HiCKhO3Ow",
        "colab_type": "code",
        "colab": {
          "base_uri": "https://localhost:8080/",
          "height": 34
        },
        "outputId": "4a7da822-b387-49d9-ab02-879182dc87f8"
      },
      "source": [
        "dump(naive_tune_model, naive_path + \"naive_model.joblib\")"
      ],
      "execution_count": null,
      "outputs": [
        {
          "output_type": "execute_result",
          "data": {
            "text/plain": [
              "['/content/drive/My Drive/_TFM/Notebooks/Models/naive/naive_model.joblib']"
            ]
          },
          "metadata": {
            "tags": []
          },
          "execution_count": 23
        }
      ]
    },
    {
      "cell_type": "markdown",
      "metadata": {
        "id": "i0re7XWIO3hz",
        "colab_type": "text"
      },
      "source": [
        "**Load the model**"
      ]
    },
    {
      "cell_type": "code",
      "metadata": {
        "id": "kgsOgU3BPdpS",
        "colab_type": "code",
        "colab": {}
      },
      "source": [
        "naive_tune_model = load(naive_path + \"naive_model.joblib\") "
      ],
      "execution_count": null,
      "outputs": []
    },
    {
      "cell_type": "markdown",
      "metadata": {
        "id": "sg_Qww_UnlcW",
        "colab_type": "text"
      },
      "source": [
        "### Model Evaluation"
      ]
    },
    {
      "cell_type": "code",
      "metadata": {
        "id": "v5QoGsLpnHgP",
        "colab_type": "code",
        "colab": {}
      },
      "source": [
        "# Prediction\n",
        "y_test_mlb_pred = naive_tune_model.predict(x_test_wc)"
      ],
      "execution_count": null,
      "outputs": []
    },
    {
      "cell_type": "markdown",
      "metadata": {
        "id": "deEt5sgfR9YS",
        "colab_type": "text"
      },
      "source": [
        "**Accuracy**"
      ]
    },
    {
      "cell_type": "code",
      "metadata": {
        "id": "FR-rIrC2R8Zz",
        "colab_type": "code",
        "colab": {
          "base_uri": "https://localhost:8080/",
          "height": 34
        },
        "outputId": "f3f4d366-dc19-42dd-a9bf-1325acc1978b"
      },
      "source": [
        "metrics.accuracy_score(y_test_mlb, y_test_mlb_pred)"
      ],
      "execution_count": null,
      "outputs": [
        {
          "output_type": "execute_result",
          "data": {
            "text/plain": [
              "0.718148725949038"
            ]
          },
          "metadata": {
            "tags": []
          },
          "execution_count": 25
        }
      ]
    },
    {
      "cell_type": "markdown",
      "metadata": {
        "id": "LWCWCQQ9SF0r",
        "colab_type": "text"
      },
      "source": [
        "**Precision, Recall & F1-Score**"
      ]
    },
    {
      "cell_type": "code",
      "metadata": {
        "id": "154yT8JnnwMF",
        "colab_type": "code",
        "colab": {
          "base_uri": "https://localhost:8080/",
          "height": 646
        },
        "outputId": "09c3d656-cb9f-41e8-d843-854e7980e81a"
      },
      "source": [
        "print(metrics.classification_report(y_test_mlb, y_test_mlb_pred, target_names=labels, zero_division=0))"
      ],
      "execution_count": null,
      "outputs": [
        {
          "output_type": "stream",
          "text": [
            "                    precision    recall  f1-score   support\n",
            "\n",
            "               ack       0.00      0.00      0.00         7\n",
            "            affirm       0.87      0.97      0.92       326\n",
            "               bye       0.94      1.00      0.97       619\n",
            "      confirm_area       0.00      0.00      0.00         2\n",
            "      confirm_food       0.17      0.16      0.17        25\n",
            "confirm_pricerange       0.00      0.00      0.00         7\n",
            "         deny_food       0.00      0.00      0.00         2\n",
            "         deny_name       0.00      0.00      0.00         0\n",
            "             hello       0.29      0.18      0.22        28\n",
            "       inform_area       0.77      0.95      0.85       653\n",
            "       inform_food       0.88      0.99      0.93      1439\n",
            "       inform_name       0.17      0.07      0.10        15\n",
            " inform_pricerange       0.58      0.96      0.72       526\n",
            "       inform_this       0.91      0.96      0.94       537\n",
            "            negate       0.74      0.84      0.79        69\n",
            "            repeat       0.50      0.21      0.30        19\n",
            "           reqalts       0.82      0.96      0.88       458\n",
            "           reqmore       0.00      0.00      0.00         0\n",
            "      request_addr       0.62      1.00      0.77       512\n",
            "      request_area       0.54      0.49      0.52        51\n",
            "      request_food       0.70      0.92      0.79       119\n",
            "     request_phone       0.62      1.00      0.76       511\n",
            "  request_postcode       0.72      1.00      0.84       112\n",
            "request_pricerange       0.67      0.87      0.76        79\n",
            "           restart       0.00      0.00      0.00         0\n",
            "          thankyou       0.92      1.00      0.96       606\n",
            " request_signature       0.00      0.00      0.00         0\n",
            "      request_name       0.00      0.00      0.00         4\n",
            "           unknown       0.88      0.76      0.82       503\n",
            "\n",
            "         micro avg       0.78      0.94      0.85      7229\n",
            "         macro avg       0.46      0.53      0.48      7229\n",
            "      weighted avg       0.80      0.94      0.86      7229\n",
            "       samples avg       0.84      0.94      0.87      7229\n",
            "\n"
          ],
          "name": "stdout"
        }
      ]
    },
    {
      "cell_type": "markdown",
      "metadata": {
        "id": "rtk0iFYrnHW7",
        "colab_type": "text"
      },
      "source": [
        "### Predictions"
      ]
    },
    {
      "cell_type": "markdown",
      "metadata": {
        "id": "cgBUNlvEn5Qe",
        "colab_type": "text"
      },
      "source": [
        "We inspect some predictions."
      ]
    },
    {
      "cell_type": "code",
      "metadata": {
        "id": "TXGuaWZrl_RF",
        "colab_type": "code",
        "colab": {}
      },
      "source": [
        "y_test_pred = mlb.inverse_transform(y_test_mlb_pred)"
      ],
      "execution_count": null,
      "outputs": []
    },
    {
      "cell_type": "code",
      "metadata": {
        "id": "Ure09GEcn9a4",
        "colab_type": "code",
        "colab": {
          "base_uri": "https://localhost:8080/",
          "height": 136
        },
        "outputId": "119df180-2cf9-4a58-beef-53c6019fa226"
      },
      "source": [
        "index_sample = 0\n",
        "\n",
        "print(\"User's utterance: %s\" % x_test[index_sample])\n",
        "\n",
        "print(\"\\nTrue label: %s\" % y_test[index_sample])\n",
        "print(\"Predicted label: %s\" % list(y_test_pred[index_sample]))\n",
        "\n",
        "print(\"\\nTrue binary label: %s\" % y_test_mlb[index_sample])\n",
        "print(\"Predicted binary label: %s\" % y_test_mlb_pred[index_sample])"
      ],
      "execution_count": null,
      "outputs": [
        {
          "output_type": "stream",
          "text": [
            "User's utterance: uh yes im looking for a cheap restaurant in the west part of town\n",
            "\n",
            "True label: ['affirm', 'inform_pricerange', 'inform_area']\n",
            "Predicted label: ['inform_area', 'inform_pricerange']\n",
            "\n",
            "True binary label: [0 1 0 0 0 0 0 0 0 1 0 0 1 0 0 0 0 0 0 0 0 0 0 0 0 0 0 0 0]\n",
            "Predicted binary label: [0 0 0 0 0 0 0 0 0 1 0 0 1 0 0 0 0 0 0 0 0 0 0 0 0 0 0 0 0]\n"
          ],
          "name": "stdout"
        }
      ]
    }
  ]
}